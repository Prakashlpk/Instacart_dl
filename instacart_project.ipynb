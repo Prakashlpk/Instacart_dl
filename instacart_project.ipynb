{
 "cells": [
  {
   "cell_type": "code",
   "execution_count": 1,
   "id": "9f241675",
   "metadata": {},
   "outputs": [],
   "source": [
    "import random\n",
    "import numpy as np\n",
    "import tensorflow as tf\n",
    "\n",
    "SEED = 42\n",
    "random.seed(SEED)\n",
    "np.random.seed(SEED)\n",
    "tf.random.set_seed(SEED)\n"
   ]
  },
  {
   "cell_type": "code",
   "execution_count": 2,
   "id": "49a0dc85",
   "metadata": {},
   "outputs": [],
   "source": [
    "#Downloading CSVs\n",
    "import pandas as pd\n",
    "orders = pd.read_csv('orders.csv')\n",
    "order_products_prior = pd.read_csv('order_products__prior.csv')\n",
    "products = pd.read_csv('products.csv')\n",
    "departments = pd.read_csv('departments.csv')\n",
    "aisles = pd.read_csv('aisles.csv')\n"
   ]
  },
  {
   "cell_type": "code",
   "execution_count": 3,
   "id": "8e76da70",
   "metadata": {},
   "outputs": [],
   "source": [
    "#Merging the CSVs\n",
    "products = pd.merge(products, aisles, on='aisle_id', how='left')\n",
    "products = pd.merge(products, departments, on='department_id', how='left')\n",
    "orders_prior = pd.merge(order_products_prior, orders, on='order_id', how='left')\n",
    "orders_full = pd.merge(orders_prior, products, on='product_id', how='left')\n"
   ]
  },
  {
   "cell_type": "code",
   "execution_count": 4,
   "id": "dca05969",
   "metadata": {},
   "outputs": [],
   "source": [
    "df = orders_full.copy()"
   ]
  },
  {
   "cell_type": "code",
   "execution_count": 6,
   "id": "84f17d8c",
   "metadata": {},
   "outputs": [
    {
     "name": "stdout",
     "output_type": "stream",
     "text": [
      "<class 'pandas.core.frame.DataFrame'>\n",
      "RangeIndex: 32434489 entries, 0 to 32434488\n",
      "Data columns (total 15 columns):\n",
      " #   Column                  Dtype  \n",
      "---  ------                  -----  \n",
      " 0   order_id                int64  \n",
      " 1   product_id              int64  \n",
      " 2   add_to_cart_order       int64  \n",
      " 3   reordered               int64  \n",
      " 4   user_id                 int64  \n",
      " 5   eval_set                object \n",
      " 6   order_number            int64  \n",
      " 7   order_dow               int64  \n",
      " 8   order_hour_of_day       int64  \n",
      " 9   days_since_prior_order  float64\n",
      " 10  product_name            object \n",
      " 11  aisle_id                int64  \n",
      " 12  department_id           int64  \n",
      " 13  aisle                   object \n",
      " 14  department              object \n",
      "dtypes: float64(1), int64(10), object(4)\n",
      "memory usage: 3.6+ GB\n"
     ]
    }
   ],
   "source": [
    "df.info()"
   ]
  },
  {
   "cell_type": "code",
   "execution_count": 5,
   "id": "3dc943fe",
   "metadata": {},
   "outputs": [
    {
     "name": "stdout",
     "output_type": "stream",
     "text": [
      "eval_set ['prior']\n",
      "product_name ['Organic Egg Whites' 'Michigan Organic Kale' 'Garlic Powder' ...\n",
      " 'Piquillo & Jalapeno Bruschetta' 'Original Jerky'\n",
      " 'Flatbread Pizza All Natural']\n",
      "aisle ['eggs' 'fresh vegetables' 'spices seasonings' 'oils vinegars'\n",
      " 'baking ingredients' 'doughs gelatins bake mixes' 'spreads'\n",
      " 'packaged vegetables fruits' 'yogurt' 'soy lactosefree' 'poultry counter'\n",
      " 'bread' 'breakfast bakery' 'cold flu allergy' 'energy granola bars'\n",
      " 'breakfast bars pastries' 'chips pretzels' 'trail mix snack mix'\n",
      " 'crackers' 'refrigerated' 'energy sports drinks' 'fresh fruits'\n",
      " 'salad dressing toppings' 'prepared soups salads' 'milk' 'paper goods'\n",
      " 'water seltzer sparkling water' 'kosher foods' 'packaged poultry'\n",
      " 'packaged cheese' 'instant foods' 'packaged produce' 'cookies cakes'\n",
      " 'candy chocolate' 'body lotions soap' 'dry pasta' 'laundry'\n",
      " 'air fresheners candles' 'frozen produce' 'buns rolls'\n",
      " 'canned fruit applesauce' 'juice nectars' 'granola' 'fresh herbs'\n",
      " 'baby food formula' 'canned meals beans' 'cream' 'meat counter'\n",
      " 'frozen meals' 'fresh dips tapenades' 'soup broth bouillon'\n",
      " 'frozen meat seafood' 'frozen appetizers sides' 'dog food care'\n",
      " 'beers coolers' 'preserved dips spreads' 'spirits' 'soft drinks'\n",
      " 'other creams cheeses' 'coffee' 'frozen breakfast' 'cereal'\n",
      " 'frozen breads doughs' 'asian foods' 'soap' 'popcorn jerky'\n",
      " 'bulk dried fruits vegetables' 'butter' 'condiments'\n",
      " 'nuts seeds dried fruit' 'hot dogs bacon sausage' 'prepared meals'\n",
      " 'tofu meat alternatives' 'lunch meat' 'food storage'\n",
      " 'frozen vegan vegetarian' 'oral hygiene' 'ice cream ice' 'frozen pizza'\n",
      " 'canned jarred vegetables' 'pasta sauce' 'tea' 'grains rice dried goods'\n",
      " 'refrigerated pudding desserts' 'bakery desserts' 'mint gum'\n",
      " 'trash bags liners' 'honeys syrups nectars' 'muscles joints pain relief'\n",
      " 'tortillas flat bread' 'fruit vegetable snacks'\n",
      " 'plates bowls cups flatware' 'marinades meat preparation'\n",
      " 'kitchen supplies' 'frozen dessert' 'more household' 'hair care'\n",
      " 'seafood counter' 'frozen juice' 'beauty' 'bulk grains rice dried goods'\n",
      " 'missing' 'pickled goods olives' 'other' 'cleaning products'\n",
      " 'ice cream toppings' 'fresh pasta' 'dish detergents' 'latino foods'\n",
      " 'deodorants' 'packaged seafood' 'canned meat seafood' 'facial care'\n",
      " 'baby bath body care' 'feminine care' 'vitamins supplements' 'digestion'\n",
      " 'cat food care' 'protein meal replacements' 'hot cereal pancake mixes'\n",
      " 'baking supplies decor' 'shave needs' 'specialty cheeses' 'red wines'\n",
      " 'packaged meat' 'cocoa drink mixes' 'indian foods' 'diapers wipes'\n",
      " 'baby accessories' 'first aid' 'white wines' 'eye ear care' 'skin care'\n",
      " 'specialty wines champagnes']\n",
      "department ['dairy eggs' 'produce' 'pantry' 'meat seafood' 'bakery' 'personal care'\n",
      " 'snacks' 'breakfast' 'beverages' 'deli' 'household' 'international'\n",
      " 'dry goods pasta' 'frozen' 'canned goods' 'babies' 'pets' 'alcohol'\n",
      " 'bulk' 'missing' 'other']\n"
     ]
    }
   ],
   "source": [
    "for i in df.select_dtypes(include = [\"object\"]).columns:\n",
    "\tprint(i, df[i].unique())\n",
    "\n"
   ]
  },
  {
   "cell_type": "code",
   "execution_count": 7,
   "id": "ebbf1f1e",
   "metadata": {},
   "outputs": [
    {
     "data": {
      "text/plain": [
       "order_id                        0\n",
       "product_id                      0\n",
       "add_to_cart_order               0\n",
       "reordered                       0\n",
       "user_id                         0\n",
       "eval_set                        0\n",
       "order_number                    0\n",
       "order_dow                       0\n",
       "order_hour_of_day               0\n",
       "days_since_prior_order    2078068\n",
       "product_name                    0\n",
       "aisle_id                        0\n",
       "department_id                   0\n",
       "aisle                           0\n",
       "department                      0\n",
       "dtype: int64"
      ]
     },
     "execution_count": 7,
     "metadata": {},
     "output_type": "execute_result"
    }
   ],
   "source": [
    "df.isnull().sum()"
   ]
  },
  {
   "cell_type": "code",
   "execution_count": 8,
   "id": "3622c5e2",
   "metadata": {},
   "outputs": [],
   "source": [
    "df['days_since_prior_order'] = df['days_since_prior_order'].fillna(0)\n"
   ]
  },
  {
   "cell_type": "code",
   "execution_count": 9,
   "id": "778961f8",
   "metadata": {},
   "outputs": [
    {
     "data": {
      "text/plain": [
       "order_id                  0\n",
       "product_id                0\n",
       "add_to_cart_order         0\n",
       "reordered                 0\n",
       "user_id                   0\n",
       "eval_set                  0\n",
       "order_number              0\n",
       "order_dow                 0\n",
       "order_hour_of_day         0\n",
       "days_since_prior_order    0\n",
       "product_name              0\n",
       "aisle_id                  0\n",
       "department_id             0\n",
       "aisle                     0\n",
       "department                0\n",
       "dtype: int64"
      ]
     },
     "execution_count": 9,
     "metadata": {},
     "output_type": "execute_result"
    }
   ],
   "source": [
    "df.isnull().sum()"
   ]
  },
  {
   "cell_type": "code",
   "execution_count": 10,
   "id": "3fb70249",
   "metadata": {},
   "outputs": [
    {
     "data": {
      "text/plain": [
       "np.int64(0)"
      ]
     },
     "execution_count": 10,
     "metadata": {},
     "output_type": "execute_result"
    }
   ],
   "source": [
    "df.duplicated().sum()"
   ]
  },
  {
   "cell_type": "code",
   "execution_count": 11,
   "id": "fd46550b",
   "metadata": {},
   "outputs": [],
   "source": [
    "#Feature Engineering\n",
    "user_features = df.groupby('user_id').agg(\n",
    "    user_total_orders=('order_number', 'max'),\n",
    "    user_avg_days_between_orders=('days_since_prior_order', 'mean'),\n",
    "    user_days_since_last_order=('days_since_prior_order', 'last')\n",
    ").reset_index()\n",
    "product_features = df.groupby('product_id').agg(\n",
    "    prod_total_orders=('reordered', 'count'),\n",
    "    prod_reorders=('reordered', 'sum'),\n",
    "    prod_reorder_ratio=('reordered', 'mean')\n",
    ").reset_index()\n",
    "user_product_features = df.groupby(['user_id', 'product_id']).agg(\n",
    "    up_orders=('order_number', 'count'),\n",
    "    up_first_order=('order_number', 'min'),\n",
    "    up_last_order=('order_number', 'max'),\n",
    "    up_reorders=('reordered', 'sum')\n",
    ").reset_index()\n",
    "\n",
    "\n",
    "final_features = user_product_features.merge(user_features, on='user_id', how='left').merge(product_features, on='product_id', how='left')\n",
    "\n",
    "final_features['up_order_rate'] = final_features['up_orders'] / final_features['user_total_orders']\n"
   ]
  },
  {
   "cell_type": "code",
   "execution_count": 12,
   "id": "bae1d48d",
   "metadata": {},
   "outputs": [
    {
     "name": "stdout",
     "output_type": "stream",
     "text": [
      "<class 'pandas.core.frame.DataFrame'>\n",
      "RangeIndex: 13307953 entries, 0 to 13307952\n",
      "Data columns (total 13 columns):\n",
      " #   Column                        Dtype  \n",
      "---  ------                        -----  \n",
      " 0   user_id                       int64  \n",
      " 1   product_id                    int64  \n",
      " 2   up_orders                     int64  \n",
      " 3   up_first_order                int64  \n",
      " 4   up_last_order                 int64  \n",
      " 5   up_reorders                   int64  \n",
      " 6   user_total_orders             int64  \n",
      " 7   user_avg_days_between_orders  float64\n",
      " 8   user_days_since_last_order    float64\n",
      " 9   prod_total_orders             int64  \n",
      " 10  prod_reorders                 int64  \n",
      " 11  prod_reorder_ratio            float64\n",
      " 12  up_order_rate                 float64\n",
      "dtypes: float64(4), int64(9)\n",
      "memory usage: 1.3 GB\n"
     ]
    }
   ],
   "source": [
    "final_features.info()"
   ]
  },
  {
   "cell_type": "code",
   "execution_count": 13,
   "id": "399c137e",
   "metadata": {},
   "outputs": [],
   "source": [
    "product_info = df[['product_id', 'product_name', 'aisle', 'department']].drop_duplicates()\n",
    "\n",
    "final_features_new = final_features.merge(product_info, on='product_id', how='left')\n"
   ]
  },
  {
   "cell_type": "code",
   "execution_count": 14,
   "id": "ad54b00c",
   "metadata": {},
   "outputs": [
    {
     "name": "stdout",
     "output_type": "stream",
     "text": [
      "Skewness of numerical columns:\n",
      "user_id                         0.005730\n",
      "product_id                     -0.033893\n",
      "up_orders                       5.998498\n",
      "up_first_order                  2.570427\n",
      "up_last_order                   2.009479\n",
      "up_reorders                     5.998498\n",
      "user_total_orders               1.475029\n",
      "user_avg_days_between_orders    0.494535\n",
      "user_days_since_last_order      0.820885\n",
      "prod_total_orders               5.158596\n",
      "prod_reorders                   5.760321\n",
      "prod_reorder_ratio             -0.685107\n",
      "up_order_rate                   2.231538\n",
      "dtype: float64\n",
      "\n",
      "Kurtosis of numerical columns:\n",
      "user_id                         -1.198117\n",
      "product_id                      -1.173762\n",
      "up_orders                       57.563038\n",
      "up_first_order                   8.148618\n",
      "up_last_order                    4.463504\n",
      "up_reorders                     57.563038\n",
      "user_total_orders                1.814197\n",
      "user_avg_days_between_orders    -0.433890\n",
      "user_days_since_last_order      -0.609926\n",
      "prod_total_orders               31.960246\n",
      "prod_reorders                   39.070065\n",
      "prod_reorder_ratio               0.212548\n",
      "up_order_rate                    5.982473\n",
      "dtype: float64\n"
     ]
    }
   ],
   "source": [
    "#Checking skewness and kurtosis\n",
    "import pandas as pd\n",
    "\n",
    "num_cols = final_features_new.select_dtypes(include=['int64', 'float64']).columns\n",
    "\n",
    "skewness = final_features_new[num_cols].skew()\n",
    "\n",
    "kurtosis = final_features_new[num_cols].kurtosis()\n",
    "\n",
    "print(\"Skewness of numerical columns:\")\n",
    "print(skewness)\n",
    "\n",
    "print(\"\\nKurtosis of numerical columns:\")\n",
    "print(kurtosis)\n"
   ]
  },
  {
   "cell_type": "code",
   "execution_count": 15,
   "id": "35dd31fd",
   "metadata": {},
   "outputs": [],
   "source": [
    "# Log transforming\n",
    "import numpy as np\n",
    "log_transform_cols = [\n",
    "    'up_orders', 'up_first_order', 'up_last_order', \n",
    "    'up_reorders', 'up_order_rate','user_total_orders', 'prod_total_orders', 'prod_reorders'\n",
    "]\n",
    "\n",
    "for col in log_transform_cols:\n",
    "    final_features_new[col] = np.log1p(final_features_new[col])\n"
   ]
  },
  {
   "cell_type": "code",
   "execution_count": 16,
   "id": "ee00fef2",
   "metadata": {},
   "outputs": [
    {
     "name": "stdout",
     "output_type": "stream",
     "text": [
      "Skewness of numerical columns:\n",
      "user_id                         0.005730\n",
      "product_id                     -0.033893\n",
      "up_orders                       1.923445\n",
      "up_first_order                  0.413885\n",
      "up_last_order                   0.116014\n",
      "up_reorders                     1.515237\n",
      "user_total_orders               0.014359\n",
      "user_avg_days_between_orders    0.494535\n",
      "user_days_since_last_order      0.820885\n",
      "prod_total_orders              -0.216900\n",
      "prod_reorders                  -0.294946\n",
      "prod_reorder_ratio             -0.685107\n",
      "up_order_rate                   1.752029\n",
      "dtype: float64\n",
      "\n",
      "Kurtosis of numerical columns:\n",
      "user_id                        -1.198117\n",
      "product_id                     -1.173762\n",
      "up_orders                       3.864311\n",
      "up_first_order                 -0.681974\n",
      "up_last_order                  -0.783133\n",
      "up_reorders                     1.842445\n",
      "user_total_orders              -0.864572\n",
      "user_avg_days_between_orders   -0.433890\n",
      "user_days_since_last_order     -0.609926\n",
      "prod_total_orders              -0.147636\n",
      "prod_reorders                  -0.007767\n",
      "prod_reorder_ratio              0.212548\n",
      "up_order_rate                   3.316980\n",
      "dtype: float64\n"
     ]
    }
   ],
   "source": [
    "import pandas as pd\n",
    "\n",
    "num_cols = final_features_new.select_dtypes(include=['int64', 'float64']).columns\n",
    "\n",
    "skewness = final_features_new[num_cols].skew()\n",
    "\n",
    "\n",
    "kurtosis = final_features_new[num_cols].kurtosis()\n",
    "\n",
    "print(\"Skewness of numerical columns:\")\n",
    "print(skewness)\n",
    "\n",
    "print(\"\\nKurtosis of numerical columns:\")\n",
    "print(kurtosis)\n"
   ]
  },
  {
   "cell_type": "code",
   "execution_count": 17,
   "id": "bcef4af1",
   "metadata": {},
   "outputs": [],
   "source": [
    "#Joining with train CSV\n",
    "order_products_train = pd.read_csv('D:\\Product_Reordering\\env\\order_products__train.csv')\n",
    "train_labels = order_products_train.merge(orders[['order_id', 'user_id']], on='order_id', how='left')\n",
    "\n",
    "final_df = final_features_new.merge(train_labels[['user_id', 'product_id', 'reordered']], \n",
    "    on=['user_id', 'product_id'], \n",
    "    how='left'\n",
    ")\n"
   ]
  },
  {
   "cell_type": "code",
   "execution_count": 18,
   "id": "a0b296c1",
   "metadata": {},
   "outputs": [
    {
     "name": "stdout",
     "output_type": "stream",
     "text": [
      "<class 'pandas.core.frame.DataFrame'>\n",
      "RangeIndex: 13307953 entries, 0 to 13307952\n",
      "Data columns (total 17 columns):\n",
      " #   Column                        Dtype  \n",
      "---  ------                        -----  \n",
      " 0   user_id                       int64  \n",
      " 1   product_id                    int64  \n",
      " 2   up_orders                     float64\n",
      " 3   up_first_order                float64\n",
      " 4   up_last_order                 float64\n",
      " 5   up_reorders                   float64\n",
      " 6   user_total_orders             float64\n",
      " 7   user_avg_days_between_orders  float64\n",
      " 8   user_days_since_last_order    float64\n",
      " 9   prod_total_orders             float64\n",
      " 10  prod_reorders                 float64\n",
      " 11  prod_reorder_ratio            float64\n",
      " 12  up_order_rate                 float64\n",
      " 13  product_name                  object \n",
      " 14  aisle                         object \n",
      " 15  department                    object \n",
      " 16  reordered                     float64\n",
      "dtypes: float64(12), int64(2), object(3)\n",
      "memory usage: 1.7+ GB\n"
     ]
    }
   ],
   "source": [
    "final_df.info()"
   ]
  },
  {
   "cell_type": "code",
   "execution_count": 19,
   "id": "b9193f80",
   "metadata": {},
   "outputs": [
    {
     "data": {
      "text/plain": [
       "np.int64(0)"
      ]
     },
     "execution_count": 19,
     "metadata": {},
     "output_type": "execute_result"
    }
   ],
   "source": [
    "final_df.duplicated().sum()"
   ]
  },
  {
   "cell_type": "code",
   "execution_count": 20,
   "id": "8c518312",
   "metadata": {},
   "outputs": [
    {
     "data": {
      "text/plain": [
       "user_id                                0\n",
       "product_id                             0\n",
       "up_orders                              0\n",
       "up_first_order                         0\n",
       "up_last_order                          0\n",
       "up_reorders                            0\n",
       "user_total_orders                      0\n",
       "user_avg_days_between_orders           0\n",
       "user_days_since_last_order             0\n",
       "prod_total_orders                      0\n",
       "prod_reorders                          0\n",
       "prod_reorder_ratio                     0\n",
       "up_order_rate                          0\n",
       "product_name                           0\n",
       "aisle                                  0\n",
       "department                             0\n",
       "reordered                       12479129\n",
       "dtype: int64"
      ]
     },
     "execution_count": 20,
     "metadata": {},
     "output_type": "execute_result"
    }
   ],
   "source": [
    "final_df.isnull().sum()"
   ]
  },
  {
   "cell_type": "code",
   "execution_count": 21,
   "id": "d0ff40f1",
   "metadata": {},
   "outputs": [],
   "source": [
    "final_df['reordered'] = final_df['reordered'].fillna(0).astype(int)"
   ]
  },
  {
   "cell_type": "code",
   "execution_count": 22,
   "id": "c019a895",
   "metadata": {},
   "outputs": [
    {
     "data": {
      "text/plain": [
       "user_id                         0\n",
       "product_id                      0\n",
       "up_orders                       0\n",
       "up_first_order                  0\n",
       "up_last_order                   0\n",
       "up_reorders                     0\n",
       "user_total_orders               0\n",
       "user_avg_days_between_orders    0\n",
       "user_days_since_last_order      0\n",
       "prod_total_orders               0\n",
       "prod_reorders                   0\n",
       "prod_reorder_ratio              0\n",
       "up_order_rate                   0\n",
       "product_name                    0\n",
       "aisle                           0\n",
       "department                      0\n",
       "reordered                       0\n",
       "dtype: int64"
      ]
     },
     "execution_count": 22,
     "metadata": {},
     "output_type": "execute_result"
    }
   ],
   "source": [
    "final_df.isnull().sum()"
   ]
  },
  {
   "cell_type": "code",
   "execution_count": 23,
   "id": "4e8870d4",
   "metadata": {},
   "outputs": [
    {
     "name": "stdout",
     "output_type": "stream",
     "text": [
      "reordered\n",
      "0    0.93772\n",
      "1    0.06228\n",
      "Name: proportion, dtype: float64\n"
     ]
    }
   ],
   "source": [
    "print(final_df['reordered'].value_counts(normalize=True))\n"
   ]
  },
  {
   "cell_type": "code",
   "execution_count": 24,
   "id": "3ec60c99",
   "metadata": {},
   "outputs": [],
   "source": [
    "final_df.to_csv('insta.csv', index=False)\n"
   ]
  },
  {
   "cell_type": "code",
   "execution_count": 9,
   "id": "a2d385f2",
   "metadata": {},
   "outputs": [],
   "source": [
    "import pandas as pd\n",
    "final_df = pd.read_csv(\"insta.csv\")"
   ]
  },
  {
   "cell_type": "code",
   "execution_count": 2,
   "id": "5fcd4662",
   "metadata": {},
   "outputs": [],
   "source": [
    "id_cols = ['user_id', 'product_id', 'product_name', 'aisle', 'department']\n"
   ]
  },
  {
   "cell_type": "code",
   "execution_count": 3,
   "id": "7788a092",
   "metadata": {},
   "outputs": [],
   "source": [
    "# Label Encoding\n",
    "from sklearn.preprocessing import LabelEncoder\n",
    "string_columns = final_df.columns[final_df.dtypes == 'object']\n",
    "encoders = {}\n",
    "for col in string_columns:\n",
    "    le = LabelEncoder()\n",
    "    final_df[col] = le.fit_transform(final_df[col])\n",
    "    encoders[col] = le\n"
   ]
  },
  {
   "cell_type": "code",
   "execution_count": 4,
   "id": "29068e23",
   "metadata": {},
   "outputs": [],
   "source": [
    "x = final_df.drop('reordered', axis=1)\n",
    "y = final_df['reordered']\n"
   ]
  },
  {
   "cell_type": "code",
   "execution_count": 5,
   "id": "2a4a5b7c",
   "metadata": {},
   "outputs": [],
   "source": [
    "#Under Sampling\n",
    "from imblearn.under_sampling import RandomUnderSampler\n",
    "\n",
    "undersampler = RandomUnderSampler(\n",
    "    sampling_strategy=0.666, \n",
    "    random_state=42\n",
    ")\n",
    "\n",
    "x_under, y_under = undersampler.fit_resample(x, y)\n"
   ]
  },
  {
   "cell_type": "code",
   "execution_count": 6,
   "id": "903574a3",
   "metadata": {},
   "outputs": [
    {
     "data": {
      "text/plain": [
       "(2073304, 16)"
      ]
     },
     "execution_count": 6,
     "metadata": {},
     "output_type": "execute_result"
    }
   ],
   "source": [
    "x_under.shape"
   ]
  },
  {
   "cell_type": "code",
   "execution_count": 7,
   "id": "a7a21346",
   "metadata": {},
   "outputs": [],
   "source": [
    "#Train Test Split\n",
    "from sklearn.model_selection import train_test_split\n",
    "\n",
    "\n",
    "x_train_full, x_temp, y_train_full, y_temp = train_test_split(\n",
    "    x_under, y_under, test_size=0.3, stratify=y_under, random_state=42\n",
    ")\n",
    "\n",
    "x_val, x_test, y_val, y_test = train_test_split(\n",
    "    x_temp, y_temp, test_size=0.67, stratify=y_temp, random_state=42\n",
    ")\n"
   ]
  },
  {
   "cell_type": "code",
   "execution_count": 8,
   "id": "71c3040b",
   "metadata": {},
   "outputs": [],
   "source": [
    "x_train_id = x_train_full[id_cols]\n",
    "x_val_id = x_val[id_cols]\n",
    "x_test_id = x_test[id_cols]\n",
    "\n",
    "x_train_numeric = x_train_full.drop(columns=id_cols)\n",
    "x_val_numeric = x_val.drop(columns=id_cols)\n",
    "x_test_numeric = x_test.drop(columns=id_cols)\n"
   ]
  },
  {
   "cell_type": "code",
   "execution_count": 31,
   "id": "652de036",
   "metadata": {},
   "outputs": [
    {
     "name": "stdout",
     "output_type": "stream",
     "text": [
      "<class 'pandas.core.frame.DataFrame'>\n",
      "Index: 1451312 entries, 6936249 to 9345974\n",
      "Data columns (total 11 columns):\n",
      " #   Column                        Non-Null Count    Dtype  \n",
      "---  ------                        --------------    -----  \n",
      " 0   up_orders                     1451312 non-null  float64\n",
      " 1   up_first_order                1451312 non-null  float64\n",
      " 2   up_last_order                 1451312 non-null  float64\n",
      " 3   up_reorders                   1451312 non-null  float64\n",
      " 4   user_total_orders             1451312 non-null  float64\n",
      " 5   user_avg_days_between_orders  1451312 non-null  float64\n",
      " 6   user_days_since_last_order    1451312 non-null  float64\n",
      " 7   prod_total_orders             1451312 non-null  float64\n",
      " 8   prod_reorders                 1451312 non-null  float64\n",
      " 9   prod_reorder_ratio            1451312 non-null  float64\n",
      " 10  up_order_rate                 1451312 non-null  float64\n",
      "dtypes: float64(11)\n",
      "memory usage: 132.9 MB\n"
     ]
    }
   ],
   "source": [
    "x_train_numeric.info()"
   ]
  },
  {
   "cell_type": "code",
   "execution_count": 9,
   "id": "b9cda235",
   "metadata": {},
   "outputs": [],
   "source": [
    "#Feature Scaling\n",
    "from sklearn.preprocessing import StandardScaler\n",
    "\n",
    "scaler = StandardScaler()\n",
    "x_train_scaled = scaler.fit_transform(x_train_numeric)\n",
    "x_val_scaled = scaler.transform(x_val_numeric)\n",
    "x_test_scaled = scaler.transform(x_test_numeric)\n"
   ]
  },
  {
   "cell_type": "code",
   "execution_count": 33,
   "id": "fb8546f1",
   "metadata": {},
   "outputs": [
    {
     "name": "stderr",
     "output_type": "stream",
     "text": [
      "d:\INSTACART\\env\\Lib\\site-packages\\keras\\src\\layers\\core\\dense.py:93: UserWarning: Do not pass an `input_shape`/`input_dim` argument to a layer. When using Sequential models, prefer using an `Input(shape)` object as the first layer in the model instead.\n",
      "  super().__init__(activity_regularizer=activity_regularizer, **kwargs)\n"
     ]
    }
   ],
   "source": [
    "#Neural Network Model Creation and Compilation\n",
    "from tensorflow.keras.models import Sequential\n",
    "from tensorflow.keras.layers import Dense, Dropout, BatchNormalization\n",
    "from tensorflow.keras.callbacks import EarlyStopping, ReduceLROnPlateau\n",
    "from tensorflow.keras.metrics import Precision, Recall, AUC\n",
    "from tensorflow.keras.optimizers import Adam\n",
    "\n",
    "\n",
    "model = Sequential()\n",
    "model.add(Dense(256, input_dim=x_train_scaled.shape[1], activation=\"relu\"))\n",
    "model.add(BatchNormalization())\n",
    "model.add(Dropout(0.3))\n",
    "model.add(Dense(128, activation=\"relu\"))\n",
    "model.add(BatchNormalization())\n",
    "model.add(Dropout(0.25))\n",
    "model.add(Dense(64, activation=\"relu\"))\n",
    "model.add(BatchNormalization())\n",
    "model.add(Dropout(0.2))\n",
    "model.add(Dense(32, activation=\"relu\"))\n",
    "model.add(BatchNormalization())\n",
    "model.add(Dropout(0.15))\n",
    "model.add(Dense(1, activation=\"sigmoid\")) \n",
    "\n",
    "model.compile(\n",
    "    loss=\"binary_crossentropy\",\n",
    "    optimizer=Adam(learning_rate=0.001),\n",
    "    metrics=[\"accuracy\", Precision(name='precision'), Recall(name='recall'), AUC(name='auc')]\n",
    ")\n",
    "\n",
    "\n",
    "early_stop = EarlyStopping(\n",
    "    monitor='val_loss',\n",
    "    patience=10,           \n",
    "    restore_best_weights=True,\n",
    "    verbose=1\n",
    ")   \n"
   ]
  },
  {
   "cell_type": "code",
   "execution_count": 34,
   "id": "c414c359",
   "metadata": {},
   "outputs": [
    {
     "name": "stdout",
     "output_type": "stream",
     "text": [
      "Epoch 1/50\n",
      "\u001b[1m2835/2835\u001b[0m \u001b[32m━━━━━━━━━━━━━━━━━━━━\u001b[0m\u001b[37m\u001b[0m \u001b[1m29s\u001b[0m 8ms/step - accuracy: 0.7301 - auc: 0.7926 - loss: 0.5406 - precision: 0.6756 - recall: 0.6267 - val_accuracy: 0.7424 - val_auc: 0.8113 - val_loss: 0.5170 - val_precision: 0.6950 - val_recall: 0.6336\n",
      "Epoch 2/50\n",
      "\u001b[1m2835/2835\u001b[0m \u001b[32m━━━━━━━━━━━━━━━━━━━━\u001b[0m\u001b[37m\u001b[0m \u001b[1m24s\u001b[0m 8ms/step - accuracy: 0.7453 - auc: 0.8107 - loss: 0.5180 - precision: 0.7014 - recall: 0.6312 - val_accuracy: 0.7429 - val_auc: 0.8118 - val_loss: 0.5165 - val_precision: 0.6927 - val_recall: 0.6413\n",
      "Epoch 3/50\n",
      "\u001b[1m2835/2835\u001b[0m \u001b[32m━━━━━━━━━━━━━━━━━━━━\u001b[0m\u001b[37m\u001b[0m \u001b[1m24s\u001b[0m 8ms/step - accuracy: 0.7455 - auc: 0.8114 - loss: 0.5171 - precision: 0.7011 - recall: 0.6325 - val_accuracy: 0.7433 - val_auc: 0.8122 - val_loss: 0.5160 - val_precision: 0.6957 - val_recall: 0.6362\n",
      "Epoch 4/50\n",
      "\u001b[1m2835/2835\u001b[0m \u001b[32m━━━━━━━━━━━━━━━━━━━━\u001b[0m\u001b[37m\u001b[0m \u001b[1m24s\u001b[0m 8ms/step - accuracy: 0.7459 - auc: 0.8120 - loss: 0.5164 - precision: 0.7026 - recall: 0.6310 - val_accuracy: 0.7437 - val_auc: 0.8122 - val_loss: 0.5160 - val_precision: 0.6930 - val_recall: 0.6443\n",
      "Epoch 5/50\n",
      "\u001b[1m2835/2835\u001b[0m \u001b[32m━━━━━━━━━━━━━━━━━━━━\u001b[0m\u001b[37m\u001b[0m \u001b[1m25s\u001b[0m 9ms/step - accuracy: 0.7459 - auc: 0.8122 - loss: 0.5162 - precision: 0.7018 - recall: 0.6330 - val_accuracy: 0.7445 - val_auc: 0.8128 - val_loss: 0.5152 - val_precision: 0.6943 - val_recall: 0.6447\n",
      "Epoch 6/50\n",
      "\u001b[1m2835/2835\u001b[0m \u001b[32m━━━━━━━━━━━━━━━━━━━━\u001b[0m\u001b[37m\u001b[0m \u001b[1m24s\u001b[0m 9ms/step - accuracy: 0.7464 - auc: 0.8124 - loss: 0.5160 - precision: 0.7035 - recall: 0.6310 - val_accuracy: 0.7443 - val_auc: 0.8130 - val_loss: 0.5150 - val_precision: 0.6949 - val_recall: 0.6425\n",
      "Epoch 7/50\n",
      "\u001b[1m2835/2835\u001b[0m \u001b[32m━━━━━━━━━━━━━━━━━━━━\u001b[0m\u001b[37m\u001b[0m \u001b[1m24s\u001b[0m 9ms/step - accuracy: 0.7465 - auc: 0.8126 - loss: 0.5157 - precision: 0.7029 - recall: 0.6330 - val_accuracy: 0.7436 - val_auc: 0.8123 - val_loss: 0.5158 - val_precision: 0.6934 - val_recall: 0.6427\n",
      "Epoch 8/50\n",
      "\u001b[1m2835/2835\u001b[0m \u001b[32m━━━━━━━━━━━━━━━━━━━━\u001b[0m\u001b[37m\u001b[0m \u001b[1m24s\u001b[0m 9ms/step - accuracy: 0.7465 - auc: 0.8127 - loss: 0.5156 - precision: 0.7038 - recall: 0.6311 - val_accuracy: 0.7441 - val_auc: 0.8126 - val_loss: 0.5155 - val_precision: 0.6951 - val_recall: 0.6409\n",
      "Epoch 9/50\n",
      "\u001b[1m2835/2835\u001b[0m \u001b[32m━━━━━━━━━━━━━━━━━━━━\u001b[0m\u001b[37m\u001b[0m \u001b[1m24s\u001b[0m 9ms/step - accuracy: 0.7466 - auc: 0.8128 - loss: 0.5154 - precision: 0.7026 - recall: 0.6340 - val_accuracy: 0.7439 - val_auc: 0.8126 - val_loss: 0.5158 - val_precision: 0.6909 - val_recall: 0.6503\n",
      "Epoch 10/50\n",
      "\u001b[1m2835/2835\u001b[0m \u001b[32m━━━━━━━━━━━━━━━━━━━━\u001b[0m\u001b[37m\u001b[0m \u001b[1m24s\u001b[0m 9ms/step - accuracy: 0.7466 - auc: 0.8130 - loss: 0.5151 - precision: 0.7032 - recall: 0.6329 - val_accuracy: 0.7442 - val_auc: 0.8131 - val_loss: 0.5150 - val_precision: 0.6921 - val_recall: 0.6487\n",
      "Epoch 11/50\n",
      "\u001b[1m2835/2835\u001b[0m \u001b[32m━━━━━━━━━━━━━━━━━━━━\u001b[0m\u001b[37m\u001b[0m \u001b[1m25s\u001b[0m 9ms/step - accuracy: 0.7468 - auc: 0.8130 - loss: 0.5151 - precision: 0.7037 - recall: 0.6325 - val_accuracy: 0.7442 - val_auc: 0.8129 - val_loss: 0.5153 - val_precision: 0.6909 - val_recall: 0.6516\n",
      "Epoch 12/50\n",
      "\u001b[1m2835/2835\u001b[0m \u001b[32m━━━━━━━━━━━━━━━━━━━━\u001b[0m\u001b[37m\u001b[0m \u001b[1m25s\u001b[0m 9ms/step - accuracy: 0.7470 - auc: 0.8132 - loss: 0.5149 - precision: 0.7035 - recall: 0.6339 - val_accuracy: 0.7445 - val_auc: 0.8130 - val_loss: 0.5150 - val_precision: 0.6927 - val_recall: 0.6485\n",
      "Epoch 13/50\n",
      "\u001b[1m2835/2835\u001b[0m \u001b[32m━━━━━━━━━━━━━━━━━━━━\u001b[0m\u001b[37m\u001b[0m \u001b[1m25s\u001b[0m 9ms/step - accuracy: 0.7467 - auc: 0.8131 - loss: 0.5151 - precision: 0.7030 - recall: 0.6338 - val_accuracy: 0.7447 - val_auc: 0.8131 - val_loss: 0.5149 - val_precision: 0.6949 - val_recall: 0.6441\n",
      "Epoch 14/50\n",
      "\u001b[1m2835/2835\u001b[0m \u001b[32m━━━━━━━━━━━━━━━━━━━━\u001b[0m\u001b[37m\u001b[0m \u001b[1m25s\u001b[0m 9ms/step - accuracy: 0.7468 - auc: 0.8133 - loss: 0.5149 - precision: 0.7039 - recall: 0.6324 - val_accuracy: 0.7447 - val_auc: 0.8133 - val_loss: 0.5147 - val_precision: 0.6913 - val_recall: 0.6528\n",
      "Epoch 15/50\n",
      "\u001b[1m2835/2835\u001b[0m \u001b[32m━━━━━━━━━━━━━━━━━━━━\u001b[0m\u001b[37m\u001b[0m \u001b[1m25s\u001b[0m 9ms/step - accuracy: 0.7468 - auc: 0.8133 - loss: 0.5148 - precision: 0.7028 - recall: 0.6344 - val_accuracy: 0.7453 - val_auc: 0.8135 - val_loss: 0.5143 - val_precision: 0.6967 - val_recall: 0.6426\n",
      "Epoch 16/50\n",
      "\u001b[1m2835/2835\u001b[0m \u001b[32m━━━━━━━━━━━━━━━━━━━━\u001b[0m\u001b[37m\u001b[0m \u001b[1m25s\u001b[0m 9ms/step - accuracy: 0.7469 - auc: 0.8135 - loss: 0.5147 - precision: 0.7035 - recall: 0.6333 - val_accuracy: 0.7449 - val_auc: 0.8135 - val_loss: 0.5144 - val_precision: 0.6953 - val_recall: 0.6441\n",
      "Epoch 17/50\n",
      "\u001b[1m2835/2835\u001b[0m \u001b[32m━━━━━━━━━━━━━━━━━━━━\u001b[0m\u001b[37m\u001b[0m \u001b[1m25s\u001b[0m 9ms/step - accuracy: 0.7468 - auc: 0.8133 - loss: 0.5148 - precision: 0.7034 - recall: 0.6332 - val_accuracy: 0.7448 - val_auc: 0.8133 - val_loss: 0.5146 - val_precision: 0.6945 - val_recall: 0.6456\n",
      "Epoch 18/50\n",
      "\u001b[1m2835/2835\u001b[0m \u001b[32m━━━━━━━━━━━━━━━━━━━━\u001b[0m\u001b[37m\u001b[0m \u001b[1m25s\u001b[0m 9ms/step - accuracy: 0.7468 - auc: 0.8134 - loss: 0.5147 - precision: 0.7032 - recall: 0.6337 - val_accuracy: 0.7450 - val_auc: 0.8135 - val_loss: 0.5143 - val_precision: 0.6975 - val_recall: 0.6394\n",
      "Epoch 19/50\n",
      "\u001b[1m2835/2835\u001b[0m \u001b[32m━━━━━━━━━━━━━━━━━━━━\u001b[0m\u001b[37m\u001b[0m \u001b[1m26s\u001b[0m 9ms/step - accuracy: 0.7471 - auc: 0.8134 - loss: 0.5146 - precision: 0.7044 - recall: 0.6324 - val_accuracy: 0.7448 - val_auc: 0.8136 - val_loss: 0.5143 - val_precision: 0.6950 - val_recall: 0.6442\n",
      "Epoch 20/50\n",
      "\u001b[1m2835/2835\u001b[0m \u001b[32m━━━━━━━━━━━━━━━━━━━━\u001b[0m\u001b[37m\u001b[0m \u001b[1m41s\u001b[0m 9ms/step - accuracy: 0.7470 - auc: 0.8135 - loss: 0.5145 - precision: 0.7038 - recall: 0.6333 - val_accuracy: 0.7451 - val_auc: 0.8136 - val_loss: 0.5142 - val_precision: 0.6946 - val_recall: 0.6467\n",
      "Epoch 21/50\n",
      "\u001b[1m2835/2835\u001b[0m \u001b[32m━━━━━━━━━━━━━━━━━━━━\u001b[0m\u001b[37m\u001b[0m \u001b[1m26s\u001b[0m 9ms/step - accuracy: 0.7471 - auc: 0.8135 - loss: 0.5145 - precision: 0.7045 - recall: 0.6321 - val_accuracy: 0.7453 - val_auc: 0.8136 - val_loss: 0.5141 - val_precision: 0.6980 - val_recall: 0.6396\n",
      "Epoch 22/50\n",
      "\u001b[1m2835/2835\u001b[0m \u001b[32m━━━━━━━━━━━━━━━━━━━━\u001b[0m\u001b[37m\u001b[0m \u001b[1m26s\u001b[0m 9ms/step - accuracy: 0.7467 - auc: 0.8135 - loss: 0.5145 - precision: 0.7041 - recall: 0.6314 - val_accuracy: 0.7452 - val_auc: 0.8137 - val_loss: 0.5140 - val_precision: 0.6969 - val_recall: 0.6419\n",
      "Epoch 23/50\n",
      "\u001b[1m2835/2835\u001b[0m \u001b[32m━━━━━━━━━━━━━━━━━━━━\u001b[0m\u001b[37m\u001b[0m \u001b[1m26s\u001b[0m 9ms/step - accuracy: 0.7471 - auc: 0.8136 - loss: 0.5145 - precision: 0.7034 - recall: 0.6344 - val_accuracy: 0.7450 - val_auc: 0.8136 - val_loss: 0.5143 - val_precision: 0.6975 - val_recall: 0.6394\n",
      "Epoch 24/50\n",
      "\u001b[1m2835/2835\u001b[0m \u001b[32m━━━━━━━━━━━━━━━━━━━━\u001b[0m\u001b[37m\u001b[0m \u001b[1m26s\u001b[0m 9ms/step - accuracy: 0.7469 - auc: 0.8137 - loss: 0.5143 - precision: 0.7035 - recall: 0.6335 - val_accuracy: 0.7456 - val_auc: 0.8139 - val_loss: 0.5139 - val_precision: 0.6973 - val_recall: 0.6426\n",
      "Epoch 25/50\n",
      "\u001b[1m2835/2835\u001b[0m \u001b[32m━━━━━━━━━━━━━━━━━━━━\u001b[0m\u001b[37m\u001b[0m \u001b[1m26s\u001b[0m 9ms/step - accuracy: 0.7471 - auc: 0.8136 - loss: 0.5144 - precision: 0.7040 - recall: 0.6332 - val_accuracy: 0.7447 - val_auc: 0.8133 - val_loss: 0.5146 - val_precision: 0.6940 - val_recall: 0.6466\n",
      "Epoch 26/50\n",
      "\u001b[1m2835/2835\u001b[0m \u001b[32m━━━━━━━━━━━━━━━━━━━━\u001b[0m\u001b[37m\u001b[0m \u001b[1m26s\u001b[0m 9ms/step - accuracy: 0.7473 - auc: 0.8137 - loss: 0.5143 - precision: 0.7040 - recall: 0.6340 - val_accuracy: 0.7453 - val_auc: 0.8139 - val_loss: 0.5139 - val_precision: 0.6962 - val_recall: 0.6436\n",
      "Epoch 27/50\n",
      "\u001b[1m2835/2835\u001b[0m \u001b[32m━━━━━━━━━━━━━━━━━━━━\u001b[0m\u001b[37m\u001b[0m \u001b[1m26s\u001b[0m 9ms/step - accuracy: 0.7471 - auc: 0.8136 - loss: 0.5143 - precision: 0.7036 - recall: 0.6341 - val_accuracy: 0.7454 - val_auc: 0.8140 - val_loss: 0.5138 - val_precision: 0.6967 - val_recall: 0.6432\n",
      "Epoch 28/50\n",
      "\u001b[1m2835/2835\u001b[0m \u001b[32m━━━━━━━━━━━━━━━━━━━━\u001b[0m\u001b[37m\u001b[0m \u001b[1m26s\u001b[0m 9ms/step - accuracy: 0.7469 - auc: 0.8137 - loss: 0.5143 - precision: 0.7039 - recall: 0.6328 - val_accuracy: 0.7456 - val_auc: 0.8140 - val_loss: 0.5137 - val_precision: 0.6995 - val_recall: 0.6373\n",
      "Epoch 29/50\n",
      "\u001b[1m2835/2835\u001b[0m \u001b[32m━━━━━━━━━━━━━━━━━━━━\u001b[0m\u001b[37m\u001b[0m \u001b[1m26s\u001b[0m 9ms/step - accuracy: 0.7475 - auc: 0.8138 - loss: 0.5142 - precision: 0.7054 - recall: 0.6319 - val_accuracy: 0.7451 - val_auc: 0.8138 - val_loss: 0.5141 - val_precision: 0.6955 - val_recall: 0.6446\n",
      "Epoch 30/50\n",
      "\u001b[1m2835/2835\u001b[0m \u001b[32m━━━━━━━━━━━━━━━━━━━━\u001b[0m\u001b[37m\u001b[0m \u001b[1m26s\u001b[0m 9ms/step - accuracy: 0.7472 - auc: 0.8139 - loss: 0.5140 - precision: 0.7042 - recall: 0.6333 - val_accuracy: 0.7452 - val_auc: 0.8139 - val_loss: 0.5139 - val_precision: 0.6938 - val_recall: 0.6492\n",
      "Epoch 31/50\n",
      "\u001b[1m2835/2835\u001b[0m \u001b[32m━━━━━━━━━━━━━━━━━━━━\u001b[0m\u001b[37m\u001b[0m \u001b[1m27s\u001b[0m 9ms/step - accuracy: 0.7474 - auc: 0.8139 - loss: 0.5140 - precision: 0.7045 - recall: 0.6334 - val_accuracy: 0.7452 - val_auc: 0.8139 - val_loss: 0.5139 - val_precision: 0.6977 - val_recall: 0.6399\n",
      "Epoch 32/50\n",
      "\u001b[1m2835/2835\u001b[0m \u001b[32m━━━━━━━━━━━━━━━━━━━━\u001b[0m\u001b[37m\u001b[0m \u001b[1m27s\u001b[0m 9ms/step - accuracy: 0.7473 - auc: 0.8139 - loss: 0.5141 - precision: 0.7050 - recall: 0.6317 - val_accuracy: 0.7451 - val_auc: 0.8137 - val_loss: 0.5141 - val_precision: 0.6963 - val_recall: 0.6425\n",
      "Epoch 33/50\n",
      "\u001b[1m2835/2835\u001b[0m \u001b[32m━━━━━━━━━━━━━━━━━━━━\u001b[0m\u001b[37m\u001b[0m \u001b[1m27s\u001b[0m 9ms/step - accuracy: 0.7472 - auc: 0.8138 - loss: 0.5142 - precision: 0.7048 - recall: 0.6320 - val_accuracy: 0.7451 - val_auc: 0.8137 - val_loss: 0.5142 - val_precision: 0.6975 - val_recall: 0.6398\n",
      "Epoch 34/50\n",
      "\u001b[1m2835/2835\u001b[0m \u001b[32m━━━━━━━━━━━━━━━━━━━━\u001b[0m\u001b[37m\u001b[0m \u001b[1m27s\u001b[0m 9ms/step - accuracy: 0.7476 - auc: 0.8139 - loss: 0.5140 - precision: 0.7045 - recall: 0.6341 - val_accuracy: 0.7453 - val_auc: 0.8139 - val_loss: 0.5139 - val_precision: 0.6970 - val_recall: 0.6419\n",
      "Epoch 35/50\n",
      "\u001b[1m2835/2835\u001b[0m \u001b[32m━━━━━━━━━━━━━━━━━━━━\u001b[0m\u001b[37m\u001b[0m \u001b[1m27s\u001b[0m 10ms/step - accuracy: 0.7473 - auc: 0.8139 - loss: 0.5141 - precision: 0.7045 - recall: 0.6327 - val_accuracy: 0.7450 - val_auc: 0.8138 - val_loss: 0.5141 - val_precision: 0.6944 - val_recall: 0.6469\n",
      "Epoch 36/50\n",
      "\u001b[1m2835/2835\u001b[0m \u001b[32m━━━━━━━━━━━━━━━━━━━━\u001b[0m\u001b[37m\u001b[0m \u001b[1m22s\u001b[0m 8ms/step - accuracy: 0.7473 - auc: 0.8139 - loss: 0.5140 - precision: 0.7040 - recall: 0.6339 - val_accuracy: 0.7452 - val_auc: 0.8137 - val_loss: 0.5142 - val_precision: 0.6944 - val_recall: 0.6479\n",
      "Epoch 37/50\n",
      "\u001b[1m2835/2835\u001b[0m \u001b[32m━━━━━━━━━━━━━━━━━━━━\u001b[0m\u001b[37m\u001b[0m \u001b[1m26s\u001b[0m 9ms/step - accuracy: 0.7472 - auc: 0.8139 - loss: 0.5140 - precision: 0.7042 - recall: 0.6332 - val_accuracy: 0.7456 - val_auc: 0.8140 - val_loss: 0.5138 - val_precision: 0.6949 - val_recall: 0.6481\n",
      "Epoch 38/50\n",
      "\u001b[1m2835/2835\u001b[0m \u001b[32m━━━━━━━━━━━━━━━━━━━━\u001b[0m\u001b[37m\u001b[0m \u001b[1m26s\u001b[0m 9ms/step - accuracy: 0.7471 - auc: 0.8139 - loss: 0.5140 - precision: 0.7049 - recall: 0.6314 - val_accuracy: 0.7450 - val_auc: 0.8138 - val_loss: 0.5140 - val_precision: 0.6955 - val_recall: 0.6441\n",
      "Epoch 38: early stopping\n",
      "Restoring model weights from the end of the best epoch: 28.\n"
     ]
    }
   ],
   "source": [
    "result = model.fit(\n",
    "    x_train_scaled, y_train_full,\n",
    "    validation_data=(x_val_scaled, y_val),\n",
    "    epochs=50,\n",
    "    batch_size=512,\n",
    "    callbacks=[early_stop],\n",
    "    verbose=1\n",
    ")\n"
   ]
  },
  {
   "cell_type": "code",
   "execution_count": 35,
   "id": "d63183a6",
   "metadata": {},
   "outputs": [],
   "source": [
    "#Saving the model\n",
    "model.save('instacart_model.keras')"
   ]
  },
  {
   "cell_type": "code",
   "execution_count": 10,
   "id": "d6c01be8",
   "metadata": {},
   "outputs": [],
   "source": [
    "#Loading the model\n",
    "from tensorflow import keras\n",
    "\n",
    "model = keras.models.load_model('instacart_model.keras')"
   ]
  },
  {
   "cell_type": "code",
   "execution_count": 11,
   "id": "73f20958",
   "metadata": {},
   "outputs": [
    {
     "name": "stdout",
     "output_type": "stream",
     "text": [
      "\u001b[1m6415/6415\u001b[0m \u001b[32m━━━━━━━━━━━━━━━━━━━━\u001b[0m\u001b[37m\u001b[0m \u001b[1m9s\u001b[0m 1ms/step\n",
      "\u001b[1m13023/13023\u001b[0m \u001b[32m━━━━━━━━━━━━━━━━━━━━\u001b[0m\u001b[37m\u001b[0m \u001b[1m17s\u001b[0m 1ms/step\n",
      "VALIDATION METRICS\n",
      "Validation Classification Report:\n",
      "              precision    recall  f1-score   support\n",
      "\n",
      "           0       0.77      0.82      0.79    123203\n",
      "           1       0.70      0.64      0.67     82054\n",
      "\n",
      "    accuracy                           0.75    205257\n",
      "   macro avg       0.74      0.73      0.73    205257\n",
      "weighted avg       0.74      0.75      0.74    205257\n",
      "\n",
      "Validation AUC: 0.8140267974993141\n",
      "Validation Confusion Matrix:\n",
      "[[100742  22461]\n",
      " [ 29758  52296]]\n",
      "TEST METRICS\n",
      "Test Classification Report:\n",
      "              precision    recall  f1-score   support\n",
      "\n",
      "           0       0.77      0.82      0.80    250141\n",
      "           1       0.70      0.64      0.67    166594\n",
      "\n",
      "    accuracy                           0.75    416735\n",
      "   macro avg       0.74      0.73      0.73    416735\n",
      "weighted avg       0.75      0.75      0.75    416735\n",
      "\n",
      "Test AUC: 0.8155865857890228\n",
      "Test Confusion Matrix:\n",
      "[[205346  44795]\n",
      " [ 60139 106455]]\n"
     ]
    }
   ],
   "source": [
    "#Model Evaluation on Validation and Test Sets\n",
    "from sklearn.metrics import classification_report, roc_auc_score, confusion_matrix\n",
    "\n",
    "\n",
    "y_val_pred_proba = model.predict(x_val_scaled)\n",
    "y_val_pred = (y_val_pred_proba > 0.5).astype(int)\n",
    "\n",
    "y_test_pred_proba = model.predict(x_test_scaled)\n",
    "y_test_pred = (y_test_pred_proba > 0.5).astype(int)\n",
    "\n",
    "print(\"VALIDATION METRICS\")\n",
    "print(\"Validation Classification Report:\")\n",
    "print(classification_report(y_val, y_val_pred))\n",
    "print(\"Validation AUC:\", roc_auc_score(y_val, y_val_pred_proba))\n",
    "print(\"Validation Confusion Matrix:\")\n",
    "print(confusion_matrix(y_val, y_val_pred))\n",
    "\n",
    "print(\"TEST METRICS\")\n",
    "print(\"Test Classification Report:\")\n",
    "print(classification_report(y_test, y_test_pred))\n",
    "print(\"Test AUC:\", roc_auc_score(y_test, y_test_pred_proba))\n",
    "print(\"Test Confusion Matrix:\")\n",
    "print(confusion_matrix(y_test, y_test_pred))\n"
   ]
  },
  {
   "cell_type": "code",
   "execution_count": 12,
   "id": "35ca6109",
   "metadata": {},
   "outputs": [],
   "source": [
    "x_test_decoded = x_test.copy()\n",
    "for col in x_test_decoded.columns:\n",
    "    if col in encoders:  \n",
    "        x_test_decoded[col] = encoders[col].inverse_transform(x_test[col].astype(int))\n",
    "\n"
   ]
  },
  {
   "cell_type": "code",
   "execution_count": 13,
   "id": "44e6c441",
   "metadata": {},
   "outputs": [],
   "source": [
    "test_results = x_test_decoded.copy()\n",
    "test_results['user_id'] = x_test_id['user_id']\n",
    "test_results['product_id'] = x_test_id['product_id']\n",
    "\n",
    "test_results['actual_reordered'] = y_test\n",
    "test_results['predicted_reordered'] = y_test_pred.flatten()\n",
    "test_results['reorder_probability'] = y_test_pred_proba.flatten()\n"
   ]
  },
  {
   "cell_type": "code",
   "execution_count": 14,
   "id": "86bf9f36",
   "metadata": {},
   "outputs": [
    {
     "name": "stdout",
     "output_type": "stream",
     "text": [
      "<class 'pandas.core.frame.DataFrame'>\n",
      "Index: 416735 entries, 3587192 to 3516379\n",
      "Data columns (total 19 columns):\n",
      " #   Column                        Non-Null Count   Dtype  \n",
      "---  ------                        --------------   -----  \n",
      " 0   user_id                       416735 non-null  int64  \n",
      " 1   product_id                    416735 non-null  int64  \n",
      " 2   up_orders                     416735 non-null  float64\n",
      " 3   up_first_order                416735 non-null  float64\n",
      " 4   up_last_order                 416735 non-null  float64\n",
      " 5   up_reorders                   416735 non-null  float64\n",
      " 6   user_total_orders             416735 non-null  float64\n",
      " 7   user_avg_days_between_orders  416735 non-null  float64\n",
      " 8   user_days_since_last_order    416735 non-null  float64\n",
      " 9   prod_total_orders             416735 non-null  float64\n",
      " 10  prod_reorders                 416735 non-null  float64\n",
      " 11  prod_reorder_ratio            416735 non-null  float64\n",
      " 12  up_order_rate                 416735 non-null  float64\n",
      " 13  product_name                  416735 non-null  object \n",
      " 14  aisle                         416735 non-null  object \n",
      " 15  department                    416735 non-null  object \n",
      " 16  actual_reordered              416735 non-null  int64  \n",
      " 17  predicted_reordered           416735 non-null  int64  \n",
      " 18  reorder_probability           416735 non-null  float32\n",
      "dtypes: float32(1), float64(11), int64(4), object(3)\n",
      "memory usage: 62.0+ MB\n"
     ]
    }
   ],
   "source": [
    "test_results.info()"
   ]
  },
  {
   "cell_type": "code",
   "execution_count": 15,
   "id": "b391432d",
   "metadata": {},
   "outputs": [],
   "source": [
    "test_results.to_csv('test_results.csv', index = False)"
   ]
  },
  {
   "cell_type": "code",
   "execution_count": null,
   "id": "17feddc6",
   "metadata": {},
   "outputs": [
    {
     "name": "stdout",
     "output_type": "stream",
     "text": [
      "\n",
      "1. PERSONALIZED PRODUCT RECOMMENDATION EXCLUDING RARE PURCHASES\n",
      "----------------------------------------\n",
      "Top 10 products recommended for reorder (excluding rare items):\n",
      "                                               avg_reorder_prob  frequency  actual_reorder_rate\n",
      "product_name                                                                                   \n",
      "Variety Diet Tea                                          0.875          7                0.714\n",
      "Water Mineral                                             0.867          8                0.500\n",
      "Organic Oat Non-Dairy Original Beverage                   0.864          9                0.889\n",
      "Cream Top with Chocolate on the Bottom Yogurt             0.863          8                1.000\n",
      "Organic Homogenized Whole Milk                            0.863         30                0.900\n",
      "Chardonnay Wine                                           0.862          6                0.833\n",
      "Diet Cola                                                 0.858         12                0.833\n",
      "Original Flax Milk Dairy Free Protein+                    0.858          6                0.833\n",
      "Original Mountain Blueberry Low Fat Yogurt                0.857          6                1.000\n",
      "Lunchable Extra Cheesy Pizza                              0.857          6                0.833\n",
      "\n",
      "Recommendation Accuracy (prob > 0.7): 0.808\n"
     ]
    }
   ],
   "source": [
    "print(\"\\n1. PERSONALIZED PRODUCT RECOMMENDATION\")\n",
    "print(\"-\" * 40)\n",
    "\n",
    "high_reorder_products = test_results[test_results['reorder_probability'] > 0.7]\n",
    "\n",
    "product_recommendations = high_reorder_products.groupby('product_name').agg({\n",
    "    'reorder_probability': ['mean', 'count'],\n",
    "    'actual_reordered': 'mean'\n",
    "}).round(3)\n",
    "\n",
    "product_recommendations.columns = ['avg_reorder_prob', 'frequency', 'actual_reorder_rate']\n",
    "product_recommendations = product_recommendations[product_recommendations['frequency'] > 5]\n",
    "product_recommendations = product_recommendations.sort_values('avg_reorder_prob', ascending=False)\n",
    "\n",
    "print(\"Top 10 products recommended for reorder (excluding rare items):\")\n",
    "print(product_recommendations.head(10).to_string())\n",
    "\n",
    "recommendation_accuracy = (high_reorder_products['actual_reordered'] == 1).mean()\n",
    "print(f\"\\nRecommendation Accuracy (prob > 0.7): {recommendation_accuracy:.3f}\")\n"
   ]
  },
  {
   "cell_type": "code",
   "execution_count": 41,
   "id": "ce944fbb",
   "metadata": {},
   "outputs": [
    {
     "name": "stdout",
     "output_type": "stream",
     "text": [
      "\n",
      "2. INVENTORY MANAGEMENT\n",
      "------------------------------\n",
      "Demand forecast by department/aisle (top 10):\n",
      "                                          predicted_demand  actual_demand  total_products  demand_accuracy\n",
      "department aisle                                                                                          \n",
      "produce    fresh fruits                       22056.199219          22337           40408            0.987\n",
      "           fresh vegetables                   18255.960938          18300           44420            0.998\n",
      "           packaged vegetables fruits         10206.280273          10503           22063            0.972\n",
      "dairy eggs yogurt                              7825.580078           7588           15971            0.969\n",
      "beverages  water seltzer sparkling water       5420.850098           5480            9574            0.989\n",
      "dairy eggs milk                                5175.750000           5162            8573            0.997\n",
      "           packaged cheese                     4944.899902           4935           12547            0.998\n",
      "snacks     chips pretzels                      3757.790039           3789            9300            0.992\n",
      "dairy eggs soy lactosefree                     3574.729980           3522            7101            0.985\n",
      "bakery     bread                               3273.449951           3280            6870            0.998\n",
      "\n",
      "Overall Demand Forecasting Accuracy: 0.937\n"
     ]
    }
   ],
   "source": [
    "print(\"\\n2. INVENTORY MANAGEMENT\")\n",
    "print(\"-\" * 30)\n",
    "\n",
    "demand_forecast = test_results.groupby(['department', 'aisle']).agg({\n",
    "    'reorder_probability': 'sum',\n",
    "    'actual_reordered': 'sum',\n",
    "    'product_name': 'count'\n",
    "}).round(2)\n",
    "\n",
    "demand_forecast.columns = ['predicted_demand', 'actual_demand', 'total_products']\n",
    "\n",
    "demand_forecast['demand_accuracy'] = (\n",
    "    1 - abs(demand_forecast['predicted_demand'] - demand_forecast['actual_demand']) /\n",
    "    demand_forecast['actual_demand'].clip(lower=1)\n",
    ").round(3)\n",
    "\n",
    "top10 = demand_forecast.sort_values('predicted_demand', ascending=False).head(10)\n",
    "\n",
    "print(\"Demand forecast by department/aisle (top 10):\")\n",
    "print(top10.to_string())\n",
    "\n",
    "overall_demand_accuracy = demand_forecast['demand_accuracy'].mean()\n",
    "print(f\"\\nOverall Demand Forecasting Accuracy: {overall_demand_accuracy:.3f}\")\n"
   ]
  },
  {
   "cell_type": "code",
   "execution_count": 42,
   "id": "983d6362",
   "metadata": {},
   "outputs": [
    {
     "name": "stdout",
     "output_type": "stream",
     "text": [
      "\n",
      "3. CUSTOMER RETENTION\n",
      "-------------------------\n",
      "Customers at high churn risk: 47042\n",
      "Total customers: 148623\n",
      "Churn risk rate: 0.317\n",
      "Churn prediction accuracy: 0.686\n"
     ]
    }
   ],
   "source": [
    "print(\"\\n3. CUSTOMER RETENTION\")\n",
    "print(\"-\" * 25)\n",
    "\n",
    "if 'user_id' in test_results.columns:\n",
    "    customer_analysis = test_results.groupby('user_id').agg({\n",
    "        'reorder_probability': 'mean',\n",
    "        'actual_reordered': 'mean',\n",
    "        'product_name': 'count'\n",
    "    }).round(3)\n",
    "    \n",
    "    customer_analysis.columns = ['avg_reorder_prob', 'actual_reorder_rate', 'products_purchased']\n",
    "    \n",
    "    high_churn_risk = customer_analysis[customer_analysis['avg_reorder_prob'] < 0.3]\n",
    "    \n",
    "    print(f\"Customers at high churn risk: {len(high_churn_risk)}\")\n",
    "    print(f\"Total customers: {len(customer_analysis)}\")\n",
    "    print(f\"Churn risk rate: {len(high_churn_risk)/len(customer_analysis):.3f}\")\n",
    "    \n",
    "    churn_prediction_accuracy = (\n",
    "        (customer_analysis['avg_reorder_prob'] < 0.3) == \n",
    "        (customer_analysis['actual_reorder_rate'] < 0.3)\n",
    "    ).mean()\n",
    "    print(f\"Churn prediction accuracy: {churn_prediction_accuracy:.3f}\")\n",
    "else:\n",
    "    print(\"Note: user_id not found in data. Cannot perform customer-level churn analysis.\")\n"
   ]
  },
  {
   "cell_type": "code",
   "execution_count": 43,
   "id": "da98ac88",
   "metadata": {},
   "outputs": [
    {
     "name": "stdout",
     "output_type": "stream",
     "text": [
      "\n",
      "4. MARKETING OPTIMIZATION\n",
      "------------------------------\n",
      "Marketing segments analysis:\n",
      "                            avg_predicted_prob  actual_conversion_rate  segment_size\n",
      "marketing_segment                                                                   \n",
      "High Intent (Upsell)                     0.852                   0.854         41366\n",
      "Low Intent (Re-engage)                   0.345                   0.335        141863\n",
      "Medium Intent (Nurture)                  0.644                   0.647        109885\n",
      "Very Low Intent (Win-back)               0.101                   0.102        123621\n"
     ]
    }
   ],
   "source": [
    "print(\"\\n4. MARKETING OPTIMIZATION\")\n",
    "print(\"-\" * 30)\n",
    "\n",
    "import matplotlib.pyplot as plt\n",
    "\n",
    "def get_marketing_segment(prob):\n",
    "    if prob >= 0.8:\n",
    "        return 'High Intent (Upsell)'\n",
    "    elif prob >= 0.5:\n",
    "        return 'Medium Intent (Nurture)'\n",
    "    elif prob >= 0.2:\n",
    "        return 'Low Intent (Re-engage)'\n",
    "    else:\n",
    "        return 'Very Low Intent (Win-back)'\n",
    "\n",
    "test_results['marketing_segment'] = test_results['reorder_probability'].apply(get_marketing_segment)\n",
    "\n",
    "marketing_segments = test_results.groupby('marketing_segment').agg({\n",
    "    'reorder_probability': 'mean',\n",
    "    'actual_reordered': 'mean',\n",
    "    'product_name': 'count'\n",
    "}).round(3)\n",
    "\n",
    "marketing_segments.columns = ['avg_predicted_prob', 'actual_conversion_rate', 'segment_size']\n",
    "\n",
    "print(\"Marketing segments analysis:\")\n",
    "print(marketing_segments.to_string())\n",
    "\n"
   ]
  },
  {
   "cell_type": "code",
   "execution_count": 44,
   "id": "b600a265",
   "metadata": {},
   "outputs": [
    {
     "data": {
      "text/plain": [
       "['scaler.pkl']"
      ]
     },
     "execution_count": 44,
     "metadata": {},
     "output_type": "execute_result"
    }
   ],
   "source": [
    "import joblib\n",
    "joblib.dump(scaler, 'scaler.pkl')\n"
   ]
  }
 ],
 "metadata": {
  "kernelspec": {
   "display_name": "env",
   "language": "python",
   "name": "python3"
  },
  "language_info": {
   "codemirror_mode": {
    "name": "ipython",
    "version": 3
   },
   "file_extension": ".py",
   "mimetype": "text/x-python",
   "name": "python",
   "nbconvert_exporter": "python",
   "pygments_lexer": "ipython3",
   "version": "3.11.0"
  }
 },
 "nbformat": 4,
 "nbformat_minor": 5
}
