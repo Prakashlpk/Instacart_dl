{
 "cells": [
  {
   "cell_type": "code",
   "execution_count": 1,
   "id": "49a0dc85",
   "metadata": {},
   "outputs": [],
   "source": [
    "#Downloading CSVs\n",
    "import pandas as pd\n",
    "orders = pd.read_csv('orders.csv')\n",
    "order_products_prior = pd.read_csv('order_products__prior.csv')\n",
    "products = pd.read_csv('products.csv')\n",
    "departments = pd.read_csv('departments.csv')\n",
    "aisles = pd.read_csv('aisles.csv')\n"
   ]
  },
  {
   "cell_type": "code",
   "execution_count": 3,
   "id": "8e76da70",
   "metadata": {},
   "outputs": [],
   "source": [
    "#Merging the CSVs\n",
    "products = pd.merge(products, aisles, on='aisle_id', how='left')\n",
    "products = pd.merge(products, departments, on='department_id', how='left')\n",
    "orders_prior = pd.merge(order_products_prior, orders, on='order_id', how='left')\n",
    "orders_full = pd.merge(orders_prior, products, on='product_id', how='left')\n"
   ]
  },
  {
   "cell_type": "code",
   "execution_count": 4,
   "id": "dca05969",
   "metadata": {},
   "outputs": [],
   "source": [
    "df = orders_full.copy()"
   ]
  },
  {
   "cell_type": "code",
   "execution_count": 5,
   "id": "6a204cb7",
   "metadata": {},
   "outputs": [
    {
     "name": "stdout",
     "output_type": "stream",
     "text": [
      "<class 'pandas.core.frame.DataFrame'>\n",
      "RangeIndex: 32434489 entries, 0 to 32434488\n",
      "Data columns (total 15 columns):\n",
      " #   Column                  Dtype  \n",
      "---  ------                  -----  \n",
      " 0   order_id                int64  \n",
      " 1   product_id              int64  \n",
      " 2   add_to_cart_order       int64  \n",
      " 3   reordered               int64  \n",
      " 4   user_id                 int64  \n",
      " 5   eval_set                object \n",
      " 6   order_number            int64  \n",
      " 7   order_dow               int64  \n",
      " 8   order_hour_of_day       int64  \n",
      " 9   days_since_prior_order  float64\n",
      " 10  product_name            object \n",
      " 11  aisle_id                int64  \n",
      " 12  department_id           int64  \n",
      " 13  aisle                   object \n",
      " 14  department              object \n",
      "dtypes: float64(1), int64(10), object(4)\n",
      "memory usage: 3.6+ GB\n"
     ]
    }
   ],
   "source": [
    "df.info()"
   ]
  },
  {
   "cell_type": "code",
   "execution_count": 6,
   "id": "ebbf1f1e",
   "metadata": {},
   "outputs": [
    {
     "data": {
      "text/plain": [
       "order_id                        0\n",
       "product_id                      0\n",
       "add_to_cart_order               0\n",
       "reordered                       0\n",
       "user_id                         0\n",
       "eval_set                        0\n",
       "order_number                    0\n",
       "order_dow                       0\n",
       "order_hour_of_day               0\n",
       "days_since_prior_order    2078068\n",
       "product_name                    0\n",
       "aisle_id                        0\n",
       "department_id                   0\n",
       "aisle                           0\n",
       "department                      0\n",
       "dtype: int64"
      ]
     },
     "execution_count": 6,
     "metadata": {},
     "output_type": "execute_result"
    }
   ],
   "source": [
    "df.isnull().sum()"
   ]
  },
  {
   "cell_type": "code",
   "execution_count": 7,
   "id": "3622c5e2",
   "metadata": {},
   "outputs": [],
   "source": [
    "df['days_since_prior_order'] = df['days_since_prior_order'].fillna(0)\n"
   ]
  },
  {
   "cell_type": "code",
   "execution_count": 8,
   "id": "778961f8",
   "metadata": {},
   "outputs": [
    {
     "data": {
      "text/plain": [
       "order_id                  0\n",
       "product_id                0\n",
       "add_to_cart_order         0\n",
       "reordered                 0\n",
       "user_id                   0\n",
       "eval_set                  0\n",
       "order_number              0\n",
       "order_dow                 0\n",
       "order_hour_of_day         0\n",
       "days_since_prior_order    0\n",
       "product_name              0\n",
       "aisle_id                  0\n",
       "department_id             0\n",
       "aisle                     0\n",
       "department                0\n",
       "dtype: int64"
      ]
     },
     "execution_count": 8,
     "metadata": {},
     "output_type": "execute_result"
    }
   ],
   "source": [
    "df.isnull().sum()"
   ]
  },
  {
   "cell_type": "code",
   "execution_count": 9,
   "id": "fd46550b",
   "metadata": {},
   "outputs": [],
   "source": [
    "#Feature Engineering\n",
    "user_features = df.groupby('user_id').agg(\n",
    "    user_total_orders=('order_number', 'max'),\n",
    "    user_avg_days_between_orders=('days_since_prior_order', 'mean'),\n",
    "    user_days_since_last_order=('days_since_prior_order', 'last')\n",
    ").reset_index()\n",
    "product_features = df.groupby('product_id').agg(\n",
    "    prod_total_orders=('reordered', 'count'),\n",
    "    prod_reorders=('reordered', 'sum'),\n",
    "    prod_reorder_ratio=('reordered', 'mean')\n",
    ").reset_index()\n",
    "user_product_features = df.groupby(['user_id', 'product_id']).agg(\n",
    "    up_orders=('order_number', 'count'),\n",
    "    up_first_order=('order_number', 'min'),\n",
    "    up_last_order=('order_number', 'max'),\n",
    "    up_reorders=('reordered', 'sum')\n",
    ").reset_index()\n",
    "\n",
    "\n",
    "final_features = user_product_features.merge(user_features, on='user_id', how='left').merge(product_features, on='product_id', how='left')\n",
    "\n",
    "final_features['up_order_rate'] = final_features['up_orders'] / final_features['user_total_orders']\n"
   ]
  },
  {
   "cell_type": "code",
   "execution_count": 10,
   "id": "bae1d48d",
   "metadata": {},
   "outputs": [
    {
     "name": "stdout",
     "output_type": "stream",
     "text": [
      "<class 'pandas.core.frame.DataFrame'>\n",
      "RangeIndex: 13307953 entries, 0 to 13307952\n",
      "Data columns (total 13 columns):\n",
      " #   Column                        Dtype  \n",
      "---  ------                        -----  \n",
      " 0   user_id                       int64  \n",
      " 1   product_id                    int64  \n",
      " 2   up_orders                     int64  \n",
      " 3   up_first_order                int64  \n",
      " 4   up_last_order                 int64  \n",
      " 5   up_reorders                   int64  \n",
      " 6   user_total_orders             int64  \n",
      " 7   user_avg_days_between_orders  float64\n",
      " 8   user_days_since_last_order    float64\n",
      " 9   prod_total_orders             int64  \n",
      " 10  prod_reorders                 int64  \n",
      " 11  prod_reorder_ratio            float64\n",
      " 12  up_order_rate                 float64\n",
      "dtypes: float64(4), int64(9)\n",
      "memory usage: 1.3 GB\n"
     ]
    }
   ],
   "source": [
    "final_features.info()"
   ]
  },
  {
   "cell_type": "code",
   "execution_count": 11,
   "id": "399c137e",
   "metadata": {},
   "outputs": [],
   "source": [
    "product_info = df[['product_id', 'product_name', 'aisle', 'department']].drop_duplicates()\n",
    "\n",
    "final_features_new = final_features.merge(product_info, on='product_id', how='left')\n"
   ]
  },
  {
   "cell_type": "code",
   "execution_count": 12,
   "id": "ad54b00c",
   "metadata": {},
   "outputs": [
    {
     "name": "stdout",
     "output_type": "stream",
     "text": [
      "Skewness of numerical columns:\n",
      "user_id                         0.005730\n",
      "product_id                     -0.033893\n",
      "up_orders                       5.998498\n",
      "up_first_order                  2.570427\n",
      "up_last_order                   2.009479\n",
      "up_reorders                     5.998498\n",
      "user_total_orders               1.475029\n",
      "user_avg_days_between_orders    0.494535\n",
      "user_days_since_last_order      0.820885\n",
      "prod_total_orders               5.158596\n",
      "prod_reorders                   5.760321\n",
      "prod_reorder_ratio             -0.685107\n",
      "up_order_rate                   2.231538\n",
      "dtype: float64\n",
      "\n",
      "Kurtosis of numerical columns:\n",
      "user_id                         -1.198117\n",
      "product_id                      -1.173762\n",
      "up_orders                       57.563038\n",
      "up_first_order                   8.148618\n",
      "up_last_order                    4.463504\n",
      "up_reorders                     57.563038\n",
      "user_total_orders                1.814197\n",
      "user_avg_days_between_orders    -0.433890\n",
      "user_days_since_last_order      -0.609926\n",
      "prod_total_orders               31.960246\n",
      "prod_reorders                   39.070065\n",
      "prod_reorder_ratio               0.212548\n",
      "up_order_rate                    5.982473\n",
      "dtype: float64\n"
     ]
    }
   ],
   "source": [
    "#Checking skewness and kurtosis\n",
    "import pandas as pd\n",
    "\n",
    "num_cols = final_features_new.select_dtypes(include=['int64', 'float64']).columns\n",
    "\n",
    "skewness = final_features_new[num_cols].skew()\n",
    "\n",
    "\n",
    "kurtosis = final_features_new[num_cols].kurtosis()\n",
    "\n",
    "print(\"Skewness of numerical columns:\")\n",
    "print(skewness)\n",
    "\n",
    "print(\"\\nKurtosis of numerical columns:\")\n",
    "print(kurtosis)\n"
   ]
  },
  {
   "cell_type": "code",
   "execution_count": 13,
   "id": "35dd31fd",
   "metadata": {},
   "outputs": [],
   "source": [
    "# Log transforming\n",
    "import numpy as np\n",
    "log_transform_cols = [\n",
    "    'up_orders', 'up_first_order', 'up_last_order', \n",
    "    'up_reorders', 'up_order_rate','user_total_orders', 'prod_total_orders', 'prod_reorders'\n",
    "]\n",
    "\n",
    "for col in log_transform_cols:\n",
    "    final_features_new[col] = np.log1p(final_features_new[col])\n"
   ]
  },
  {
   "cell_type": "code",
   "execution_count": 14,
   "id": "ee00fef2",
   "metadata": {},
   "outputs": [
    {
     "name": "stdout",
     "output_type": "stream",
     "text": [
      "Skewness of numerical columns:\n",
      "user_id                         0.005730\n",
      "product_id                     -0.033893\n",
      "up_orders                       1.923445\n",
      "up_first_order                  0.413885\n",
      "up_last_order                   0.116014\n",
      "up_reorders                     1.515237\n",
      "user_total_orders               0.014359\n",
      "user_avg_days_between_orders    0.494535\n",
      "user_days_since_last_order      0.820885\n",
      "prod_total_orders              -0.216900\n",
      "prod_reorders                  -0.294946\n",
      "prod_reorder_ratio             -0.685107\n",
      "up_order_rate                   1.752029\n",
      "dtype: float64\n",
      "\n",
      "Kurtosis of numerical columns:\n",
      "user_id                        -1.198117\n",
      "product_id                     -1.173762\n",
      "up_orders                       3.864311\n",
      "up_first_order                 -0.681974\n",
      "up_last_order                  -0.783133\n",
      "up_reorders                     1.842445\n",
      "user_total_orders              -0.864572\n",
      "user_avg_days_between_orders   -0.433890\n",
      "user_days_since_last_order     -0.609926\n",
      "prod_total_orders              -0.147636\n",
      "prod_reorders                  -0.007767\n",
      "prod_reorder_ratio              0.212548\n",
      "up_order_rate                   3.316980\n",
      "dtype: float64\n"
     ]
    }
   ],
   "source": [
    "import pandas as pd\n",
    "\n",
    "num_cols = final_features_new.select_dtypes(include=['int64', 'float64']).columns\n",
    "\n",
    "skewness = final_features_new[num_cols].skew()\n",
    "\n",
    "\n",
    "kurtosis = final_features_new[num_cols].kurtosis()\n",
    "\n",
    "print(\"Skewness of numerical columns:\")\n",
    "print(skewness)\n",
    "\n",
    "print(\"\\nKurtosis of numerical columns:\")\n",
    "print(kurtosis)\n"
   ]
  },
  {
   "cell_type": "code",
   "execution_count": null,
   "id": "bcef4af1",
   "metadata": {},
   "outputs": [],
   "source": [
    "#Joining with train CSV\n",
    "order_products_train = pd.read_csv('D:\\Product_Reordering\\env\\order_products__train.csv')\n",
    "train_labels = order_products_train.merge(orders[['order_id', 'user_id']], on='order_id', how='left')\n",
    "\n",
    "final_df = final_features_new.merge(train_labels[['user_id', 'product_id', 'reordered']], \n",
    "    on=['user_id', 'product_id'], \n",
    "    how='left'\n",
    ")\n"
   ]
  },
  {
   "cell_type": "code",
   "execution_count": 16,
   "id": "a0b296c1",
   "metadata": {},
   "outputs": [
    {
     "name": "stdout",
     "output_type": "stream",
     "text": [
      "<class 'pandas.core.frame.DataFrame'>\n",
      "RangeIndex: 13307953 entries, 0 to 13307952\n",
      "Data columns (total 17 columns):\n",
      " #   Column                        Dtype  \n",
      "---  ------                        -----  \n",
      " 0   user_id                       int64  \n",
      " 1   product_id                    int64  \n",
      " 2   up_orders                     float64\n",
      " 3   up_first_order                float64\n",
      " 4   up_last_order                 float64\n",
      " 5   up_reorders                   float64\n",
      " 6   user_total_orders             float64\n",
      " 7   user_avg_days_between_orders  float64\n",
      " 8   user_days_since_last_order    float64\n",
      " 9   prod_total_orders             float64\n",
      " 10  prod_reorders                 float64\n",
      " 11  prod_reorder_ratio            float64\n",
      " 12  up_order_rate                 float64\n",
      " 13  product_name                  object \n",
      " 14  aisle                         object \n",
      " 15  department                    object \n",
      " 16  reordered                     float64\n",
      "dtypes: float64(12), int64(2), object(3)\n",
      "memory usage: 1.7+ GB\n"
     ]
    }
   ],
   "source": [
    "final_df.info()"
   ]
  },
  {
   "cell_type": "code",
   "execution_count": 17,
   "id": "8c518312",
   "metadata": {},
   "outputs": [
    {
     "data": {
      "text/plain": [
       "user_id                                0\n",
       "product_id                             0\n",
       "up_orders                              0\n",
       "up_first_order                         0\n",
       "up_last_order                          0\n",
       "up_reorders                            0\n",
       "user_total_orders                      0\n",
       "user_avg_days_between_orders           0\n",
       "user_days_since_last_order             0\n",
       "prod_total_orders                      0\n",
       "prod_reorders                          0\n",
       "prod_reorder_ratio                     0\n",
       "up_order_rate                          0\n",
       "product_name                           0\n",
       "aisle                                  0\n",
       "department                             0\n",
       "reordered                       12479129\n",
       "dtype: int64"
      ]
     },
     "execution_count": 17,
     "metadata": {},
     "output_type": "execute_result"
    }
   ],
   "source": [
    "final_df.isnull().sum()"
   ]
  },
  {
   "cell_type": "code",
   "execution_count": 18,
   "id": "d0ff40f1",
   "metadata": {},
   "outputs": [],
   "source": [
    "final_df['reordered'] = final_df['reordered'].fillna(0).astype(int)"
   ]
  },
  {
   "cell_type": "code",
   "execution_count": 19,
   "id": "c019a895",
   "metadata": {},
   "outputs": [
    {
     "data": {
      "text/plain": [
       "user_id                         0\n",
       "product_id                      0\n",
       "up_orders                       0\n",
       "up_first_order                  0\n",
       "up_last_order                   0\n",
       "up_reorders                     0\n",
       "user_total_orders               0\n",
       "user_avg_days_between_orders    0\n",
       "user_days_since_last_order      0\n",
       "prod_total_orders               0\n",
       "prod_reorders                   0\n",
       "prod_reorder_ratio              0\n",
       "up_order_rate                   0\n",
       "product_name                    0\n",
       "aisle                           0\n",
       "department                      0\n",
       "reordered                       0\n",
       "dtype: int64"
      ]
     },
     "execution_count": 19,
     "metadata": {},
     "output_type": "execute_result"
    }
   ],
   "source": [
    "final_df.isnull().sum()"
   ]
  },
  {
   "cell_type": "code",
   "execution_count": 21,
   "id": "5fcd4662",
   "metadata": {},
   "outputs": [],
   "source": [
    "id_cols = ['user_id', 'product_id', 'product_name', 'aisle', 'department']\n"
   ]
  },
  {
   "cell_type": "code",
   "execution_count": null,
   "id": "7788a092",
   "metadata": {},
   "outputs": [],
   "source": [
    "# Label Encoding\n",
    "from sklearn.preprocessing import LabelEncoder\n",
    "string_columns = final_df.columns[final_df.dtypes == 'object']\n",
    "encoders = {}\n",
    "for col in string_columns:\n",
    "    le = LabelEncoder()\n",
    "    final_df[col] = le.fit_transform(final_df[col])\n",
    "    encoders[col] = le\n"
   ]
  },
  {
   "cell_type": "code",
   "execution_count": 23,
   "id": "29068e23",
   "metadata": {},
   "outputs": [],
   "source": [
    "x = final_df.drop('reordered', axis=1)\n",
    "y = final_df['reordered']\n"
   ]
  },
  {
   "cell_type": "code",
   "execution_count": 24,
   "id": "2a4a5b7c",
   "metadata": {},
   "outputs": [],
   "source": [
    "#Under Sampling\n",
    "from imblearn.under_sampling import RandomUnderSampler\n",
    "\n",
    "undersampler = RandomUnderSampler(\n",
    "    sampling_strategy=0.666, \n",
    "    random_state=42\n",
    ")\n",
    "\n",
    "x_under, y_under = undersampler.fit_resample(x, y)\n"
   ]
  },
  {
   "cell_type": "code",
   "execution_count": 25,
   "id": "a7a21346",
   "metadata": {},
   "outputs": [],
   "source": [
    "#Train Test Split\n",
    "from sklearn.model_selection import train_test_split\n",
    "\n",
    "\n",
    "x_train_full, x_temp, y_train_full, y_temp = train_test_split(\n",
    "    x_under, y_under, test_size=0.3, stratify=y_under, random_state=42\n",
    ")\n",
    "\n",
    "x_val, x_test, y_val, y_test = train_test_split(\n",
    "    x_temp, y_temp, test_size=0.67, stratify=y_temp, random_state=42\n",
    ")\n"
   ]
  },
  {
   "cell_type": "code",
   "execution_count": 26,
   "id": "71c3040b",
   "metadata": {},
   "outputs": [],
   "source": [
    "x_train_id = x_train_full[id_cols]\n",
    "x_val_id = x_val[id_cols]\n",
    "x_test_id = x_test[id_cols]\n",
    "\n",
    "x_train_numeric = x_train_full.drop(columns=id_cols)\n",
    "x_val_numeric = x_val.drop(columns=id_cols)\n",
    "x_test_numeric = x_test.drop(columns=id_cols)\n"
   ]
  },
  {
   "cell_type": "code",
   "execution_count": 21,
   "id": "652de036",
   "metadata": {},
   "outputs": [
    {
     "name": "stdout",
     "output_type": "stream",
     "text": [
      "<class 'pandas.core.frame.DataFrame'>\n",
      "Index: 1451312 entries, 6936249 to 9345974\n",
      "Data columns (total 11 columns):\n",
      " #   Column                        Non-Null Count    Dtype  \n",
      "---  ------                        --------------    -----  \n",
      " 0   up_orders                     1451312 non-null  float64\n",
      " 1   up_first_order                1451312 non-null  float64\n",
      " 2   up_last_order                 1451312 non-null  float64\n",
      " 3   up_reorders                   1451312 non-null  float64\n",
      " 4   user_total_orders             1451312 non-null  float64\n",
      " 5   user_avg_days_between_orders  1451312 non-null  float64\n",
      " 6   user_days_since_last_order    1451312 non-null  float64\n",
      " 7   prod_total_orders             1451312 non-null  float64\n",
      " 8   prod_reorders                 1451312 non-null  float64\n",
      " 9   prod_reorder_ratio            1451312 non-null  float64\n",
      " 10  up_order_rate                 1451312 non-null  float64\n",
      "dtypes: float64(11)\n",
      "memory usage: 132.9 MB\n"
     ]
    }
   ],
   "source": [
    "x_train_numeric.info()"
   ]
  },
  {
   "cell_type": "code",
   "execution_count": null,
   "id": "b9cda235",
   "metadata": {},
   "outputs": [],
   "source": [
    "#Feature Scaling\n",
    "from sklearn.preprocessing import StandardScaler\n",
    "\n",
    "\n",
    "scaler = StandardScaler()\n",
    "x_train_scaled = scaler.fit_transform(x_train_numeric)\n",
    "x_val_scaled = scaler.transform(x_val_numeric)\n",
    "x_test_scaled = scaler.transform(x_test_numeric)\n"
   ]
  },
  {
   "cell_type": "code",
   "execution_count": null,
   "id": "fb8546f1",
   "metadata": {},
   "outputs": [
    {
     "name": "stderr",
     "output_type": "stream",
     "text": [
      "d:\\GUVI\\INSTACART\\env\\Lib\\site-packages\\keras\\src\\layers\\core\\dense.py:93: UserWarning: Do not pass an `input_shape`/`input_dim` argument to a layer. When using Sequential models, prefer using an `Input(shape)` object as the first layer in the model instead.\n",
      "  super().__init__(activity_regularizer=activity_regularizer, **kwargs)\n"
     ]
    }
   ],
   "source": [
    "#Neural Network Model Creation and Compilation\n",
    "from tensorflow.keras.models import Sequential\n",
    "from tensorflow.keras.layers import Dense, Dropout, BatchNormalization\n",
    "from tensorflow.keras.callbacks import EarlyStopping, ReduceLROnPlateau\n",
    "from tensorflow.keras.metrics import Precision, Recall, AUC\n",
    "from tensorflow.keras.optimizers import Adam\n",
    "\n",
    "\n",
    "model = Sequential()\n",
    "model.add(Dense(256, input_dim=x_train_scaled.shape[1], activation=\"relu\"))\n",
    "model.add(BatchNormalization())\n",
    "model.add(Dropout(0.3))\n",
    "model.add(Dense(128, activation=\"relu\"))\n",
    "model.add(BatchNormalization())\n",
    "model.add(Dropout(0.25))\n",
    "model.add(Dense(64, activation=\"relu\"))\n",
    "model.add(BatchNormalization())\n",
    "model.add(Dropout(0.2))\n",
    "model.add(Dense(32, activation=\"relu\"))\n",
    "model.add(BatchNormalization())\n",
    "model.add(Dropout(0.15))\n",
    "model.add(Dense(1, activation=\"sigmoid\")) \n",
    "\n",
    "model.compile(\n",
    "    loss=\"binary_crossentropy\",\n",
    "    optimizer=Adam(learning_rate=0.001),\n",
    "    metrics=[\"accuracy\", Precision(name='precision'), Recall(name='recall'), AUC(name='auc')]\n",
    ")\n",
    "\n",
    "\n",
    "early_stop = EarlyStopping(\n",
    "    monitor='val_loss',\n",
    "    patience=10,           \n",
    "    restore_best_weights=True,\n",
    "    verbose=1\n",
    ")   \n"
   ]
  },
  {
   "cell_type": "code",
   "execution_count": 12,
   "id": "c414c359",
   "metadata": {},
   "outputs": [
    {
     "name": "stdout",
     "output_type": "stream",
     "text": [
      "Epoch 1/50\n",
      "\u001b[1m2835/2835\u001b[0m \u001b[32m━━━━━━━━━━━━━━━━━━━━\u001b[0m\u001b[37m\u001b[0m \u001b[1m18s\u001b[0m 5ms/step - accuracy: 0.7282 - auc: 0.7891 - loss: 0.5467 - precision: 0.6743 - recall: 0.6212 - val_accuracy: 0.7446 - val_auc: 0.8123 - val_loss: 0.5158 - val_precision: 0.6978 - val_recall: 0.6368\n",
      "Epoch 2/50\n",
      "\u001b[1m2835/2835\u001b[0m \u001b[32m━━━━━━━━━━━━━━━━━━━━\u001b[0m\u001b[37m\u001b[0m \u001b[1m15s\u001b[0m 5ms/step - accuracy: 0.7458 - auc: 0.8115 - loss: 0.5173 - precision: 0.7013 - recall: 0.6351 - val_accuracy: 0.7438 - val_auc: 0.8120 - val_loss: 0.5161 - val_precision: 0.7031 - val_recall: 0.6214\n",
      "Epoch 3/50\n",
      "\u001b[1m2835/2835\u001b[0m \u001b[32m━━━━━━━━━━━━━━━━━━━━\u001b[0m\u001b[37m\u001b[0m \u001b[1m15s\u001b[0m 5ms/step - accuracy: 0.7453 - auc: 0.8113 - loss: 0.5175 - precision: 0.7017 - recall: 0.6327 - val_accuracy: 0.7433 - val_auc: 0.8122 - val_loss: 0.5172 - val_precision: 0.6942 - val_recall: 0.6396\n",
      "Epoch 4/50\n",
      "\u001b[1m2835/2835\u001b[0m \u001b[32m━━━━━━━━━━━━━━━━━━━━\u001b[0m\u001b[37m\u001b[0m \u001b[1m17s\u001b[0m 6ms/step - accuracy: 0.7464 - auc: 0.8122 - loss: 0.5164 - precision: 0.7028 - recall: 0.6345 - val_accuracy: 0.7446 - val_auc: 0.8135 - val_loss: 0.5146 - val_precision: 0.7120 - val_recall: 0.6067\n",
      "Epoch 5/50\n",
      "\u001b[1m2835/2835\u001b[0m \u001b[32m━━━━━━━━━━━━━━━━━━━━\u001b[0m\u001b[37m\u001b[0m \u001b[1m18s\u001b[0m 6ms/step - accuracy: 0.7469 - auc: 0.8124 - loss: 0.5158 - precision: 0.7039 - recall: 0.6316 - val_accuracy: 0.7453 - val_auc: 0.8137 - val_loss: 0.5141 - val_precision: 0.7004 - val_recall: 0.6341\n",
      "Epoch 6/50\n",
      "\u001b[1m2835/2835\u001b[0m \u001b[32m━━━━━━━━━━━━━━━━━━━━\u001b[0m\u001b[37m\u001b[0m \u001b[1m16s\u001b[0m 6ms/step - accuracy: 0.7465 - auc: 0.8125 - loss: 0.5162 - precision: 0.7025 - recall: 0.6349 - val_accuracy: 0.7454 - val_auc: 0.8137 - val_loss: 0.5143 - val_precision: 0.7056 - val_recall: 0.6232\n",
      "Epoch 7/50\n",
      "\u001b[1m2835/2835\u001b[0m \u001b[32m━━━━━━━━━━━━━━━━━━━━\u001b[0m\u001b[37m\u001b[0m \u001b[1m15s\u001b[0m 5ms/step - accuracy: 0.7468 - auc: 0.8124 - loss: 0.5161 - precision: 0.7031 - recall: 0.6347 - val_accuracy: 0.7451 - val_auc: 0.8138 - val_loss: 0.5141 - val_precision: 0.6982 - val_recall: 0.6381\n",
      "Epoch 8/50\n",
      "\u001b[1m2835/2835\u001b[0m \u001b[32m━━━━━━━━━━━━━━━━━━━━\u001b[0m\u001b[37m\u001b[0m \u001b[1m15s\u001b[0m 5ms/step - accuracy: 0.7471 - auc: 0.8130 - loss: 0.5154 - precision: 0.7033 - recall: 0.6347 - val_accuracy: 0.7449 - val_auc: 0.8134 - val_loss: 0.5144 - val_precision: 0.7038 - val_recall: 0.6250\n",
      "Epoch 9/50\n",
      "\u001b[1m2835/2835\u001b[0m \u001b[32m━━━━━━━━━━━━━━━━━━━━\u001b[0m\u001b[37m\u001b[0m \u001b[1m15s\u001b[0m 5ms/step - accuracy: 0.7465 - auc: 0.8132 - loss: 0.5152 - precision: 0.7026 - recall: 0.6353 - val_accuracy: 0.7451 - val_auc: 0.8137 - val_loss: 0.5146 - val_precision: 0.7094 - val_recall: 0.6137\n",
      "Epoch 10/50\n",
      "\u001b[1m2835/2835\u001b[0m \u001b[32m━━━━━━━━━━━━━━━━━━━━\u001b[0m\u001b[37m\u001b[0m \u001b[1m15s\u001b[0m 5ms/step - accuracy: 0.7478 - auc: 0.8141 - loss: 0.5139 - precision: 0.7035 - recall: 0.6354 - val_accuracy: 0.7449 - val_auc: 0.8139 - val_loss: 0.5140 - val_precision: 0.7096 - val_recall: 0.6126\n",
      "Epoch 11/50\n",
      "\u001b[1m2835/2835\u001b[0m \u001b[32m━━━━━━━━━━━━━━━━━━━━\u001b[0m\u001b[37m\u001b[0m \u001b[1m15s\u001b[0m 5ms/step - accuracy: 0.7475 - auc: 0.8137 - loss: 0.5145 - precision: 0.7041 - recall: 0.6350 - val_accuracy: 0.7452 - val_auc: 0.8139 - val_loss: 0.5144 - val_precision: 0.7002 - val_recall: 0.6340\n",
      "Epoch 12/50\n",
      "\u001b[1m2835/2835\u001b[0m \u001b[32m━━━━━━━━━━━━━━━━━━━━\u001b[0m\u001b[37m\u001b[0m \u001b[1m15s\u001b[0m 5ms/step - accuracy: 0.7471 - auc: 0.8138 - loss: 0.5146 - precision: 0.7038 - recall: 0.6361 - val_accuracy: 0.7433 - val_auc: 0.8124 - val_loss: 0.5162 - val_precision: 0.6928 - val_recall: 0.6428\n",
      "Epoch 13/50\n",
      "\u001b[1m2835/2835\u001b[0m \u001b[32m━━━━━━━━━━━━━━━━━━━━\u001b[0m\u001b[37m\u001b[0m \u001b[1m15s\u001b[0m 5ms/step - accuracy: 0.7472 - auc: 0.8137 - loss: 0.5144 - precision: 0.7039 - recall: 0.6340 - val_accuracy: 0.7446 - val_auc: 0.8133 - val_loss: 0.5152 - val_precision: 0.6925 - val_recall: 0.6496\n",
      "Epoch 14/50\n",
      "\u001b[1m2835/2835\u001b[0m \u001b[32m━━━━━━━━━━━━━━━━━━━━\u001b[0m\u001b[37m\u001b[0m \u001b[1m17s\u001b[0m 6ms/step - accuracy: 0.7470 - auc: 0.8131 - loss: 0.5150 - precision: 0.7034 - recall: 0.6338 - val_accuracy: 0.7458 - val_auc: 0.8140 - val_loss: 0.5140 - val_precision: 0.7039 - val_recall: 0.6286\n",
      "Epoch 15/50\n",
      "\u001b[1m2835/2835\u001b[0m \u001b[32m━━━━━━━━━━━━━━━━━━━━\u001b[0m\u001b[37m\u001b[0m \u001b[1m15s\u001b[0m 5ms/step - accuracy: 0.7472 - auc: 0.8133 - loss: 0.5150 - precision: 0.7041 - recall: 0.6347 - val_accuracy: 0.7452 - val_auc: 0.8138 - val_loss: 0.5144 - val_precision: 0.7101 - val_recall: 0.6128\n",
      "Epoch 16/50\n",
      "\u001b[1m2835/2835\u001b[0m \u001b[32m━━━━━━━━━━━━━━━━━━━━\u001b[0m\u001b[37m\u001b[0m \u001b[1m15s\u001b[0m 5ms/step - accuracy: 0.7473 - auc: 0.8139 - loss: 0.5144 - precision: 0.7040 - recall: 0.6347 - val_accuracy: 0.7457 - val_auc: 0.8141 - val_loss: 0.5139 - val_precision: 0.7016 - val_recall: 0.6332\n",
      "Epoch 17/50\n",
      "\u001b[1m2835/2835\u001b[0m \u001b[32m━━━━━━━━━━━━━━━━━━━━\u001b[0m\u001b[37m\u001b[0m \u001b[1m15s\u001b[0m 5ms/step - accuracy: 0.7480 - auc: 0.8141 - loss: 0.5140 - precision: 0.7048 - recall: 0.6352 - val_accuracy: 0.7451 - val_auc: 0.8137 - val_loss: 0.5142 - val_precision: 0.7007 - val_recall: 0.6328\n",
      "Epoch 18/50\n",
      "\u001b[1m2835/2835\u001b[0m \u001b[32m━━━━━━━━━━━━━━━━━━━━\u001b[0m\u001b[37m\u001b[0m \u001b[1m16s\u001b[0m 5ms/step - accuracy: 0.7475 - auc: 0.8140 - loss: 0.5141 - precision: 0.7028 - recall: 0.6377 - val_accuracy: 0.7452 - val_auc: 0.8137 - val_loss: 0.5143 - val_precision: 0.6940 - val_recall: 0.6488\n",
      "Epoch 19/50\n",
      "\u001b[1m2835/2835\u001b[0m \u001b[32m━━━━━━━━━━━━━━━━━━━━\u001b[0m\u001b[37m\u001b[0m \u001b[1m16s\u001b[0m 6ms/step - accuracy: 0.7467 - auc: 0.8135 - loss: 0.5147 - precision: 0.7020 - recall: 0.6374 - val_accuracy: 0.7457 - val_auc: 0.8136 - val_loss: 0.5141 - val_precision: 0.6977 - val_recall: 0.6420\n",
      "Epoch 20/50\n",
      "\u001b[1m2835/2835\u001b[0m \u001b[32m━━━━━━━━━━━━━━━━━━━━\u001b[0m\u001b[37m\u001b[0m \u001b[1m16s\u001b[0m 6ms/step - accuracy: 0.7472 - auc: 0.8136 - loss: 0.5148 - precision: 0.7035 - recall: 0.6364 - val_accuracy: 0.7458 - val_auc: 0.8139 - val_loss: 0.5140 - val_precision: 0.6975 - val_recall: 0.6428\n",
      "Epoch 21/50\n",
      "\u001b[1m2835/2835\u001b[0m \u001b[32m━━━━━━━━━━━━━━━━━━━━\u001b[0m\u001b[37m\u001b[0m \u001b[1m16s\u001b[0m 6ms/step - accuracy: 0.7479 - auc: 0.8138 - loss: 0.5143 - precision: 0.7040 - recall: 0.6365 - val_accuracy: 0.7461 - val_auc: 0.8141 - val_loss: 0.5136 - val_precision: 0.6994 - val_recall: 0.6401\n",
      "Epoch 22/50\n",
      "\u001b[1m2835/2835\u001b[0m \u001b[32m━━━━━━━━━━━━━━━━━━━━\u001b[0m\u001b[37m\u001b[0m \u001b[1m16s\u001b[0m 6ms/step - accuracy: 0.7472 - auc: 0.8138 - loss: 0.5144 - precision: 0.7047 - recall: 0.6339 - val_accuracy: 0.7456 - val_auc: 0.8142 - val_loss: 0.5137 - val_precision: 0.7000 - val_recall: 0.6363\n",
      "Epoch 23/50\n",
      "\u001b[1m2835/2835\u001b[0m \u001b[32m━━━━━━━━━━━━━━━━━━━━\u001b[0m\u001b[37m\u001b[0m \u001b[1m16s\u001b[0m 6ms/step - accuracy: 0.7475 - auc: 0.8141 - loss: 0.5141 - precision: 0.7041 - recall: 0.6355 - val_accuracy: 0.7456 - val_auc: 0.8141 - val_loss: 0.5137 - val_precision: 0.6959 - val_recall: 0.6459\n",
      "Epoch 24/50\n",
      "\u001b[1m2835/2835\u001b[0m \u001b[32m━━━━━━━━━━━━━━━━━━━━\u001b[0m\u001b[37m\u001b[0m \u001b[1m16s\u001b[0m 6ms/step - accuracy: 0.7471 - auc: 0.8135 - loss: 0.5146 - precision: 0.7034 - recall: 0.6352 - val_accuracy: 0.7455 - val_auc: 0.8140 - val_loss: 0.5137 - val_precision: 0.7038 - val_recall: 0.6272\n",
      "Epoch 25/50\n",
      "\u001b[1m2835/2835\u001b[0m \u001b[32m━━━━━━━━━━━━━━━━━━━━\u001b[0m\u001b[37m\u001b[0m \u001b[1m16s\u001b[0m 6ms/step - accuracy: 0.7479 - auc: 0.8145 - loss: 0.5136 - precision: 0.7052 - recall: 0.6344 - val_accuracy: 0.7452 - val_auc: 0.8141 - val_loss: 0.5137 - val_precision: 0.7051 - val_recall: 0.6235\n",
      "Epoch 26/50\n",
      "\u001b[1m2835/2835\u001b[0m \u001b[32m━━━━━━━━━━━━━━━━━━━━\u001b[0m\u001b[37m\u001b[0m \u001b[1m16s\u001b[0m 6ms/step - accuracy: 0.7481 - auc: 0.8142 - loss: 0.5139 - precision: 0.7052 - recall: 0.6349 - val_accuracy: 0.7455 - val_auc: 0.8141 - val_loss: 0.5138 - val_precision: 0.6970 - val_recall: 0.6428\n",
      "Epoch 27/50\n",
      "\u001b[1m2835/2835\u001b[0m \u001b[32m━━━━━━━━━━━━━━━━━━━━\u001b[0m\u001b[37m\u001b[0m \u001b[1m16s\u001b[0m 6ms/step - accuracy: 0.7477 - auc: 0.8139 - loss: 0.5141 - precision: 0.7038 - recall: 0.6356 - val_accuracy: 0.7460 - val_auc: 0.8143 - val_loss: 0.5134 - val_precision: 0.6989 - val_recall: 0.6404\n",
      "Epoch 28/50\n",
      "\u001b[1m2835/2835\u001b[0m \u001b[32m━━━━━━━━━━━━━━━━━━━━\u001b[0m\u001b[37m\u001b[0m \u001b[1m16s\u001b[0m 6ms/step - accuracy: 0.7480 - auc: 0.8146 - loss: 0.5136 - precision: 0.7049 - recall: 0.6371 - val_accuracy: 0.7458 - val_auc: 0.8142 - val_loss: 0.5136 - val_precision: 0.7100 - val_recall: 0.6154\n",
      "Epoch 29/50\n",
      "\u001b[1m2835/2835\u001b[0m \u001b[32m━━━━━━━━━━━━━━━━━━━━\u001b[0m\u001b[37m\u001b[0m \u001b[1m16s\u001b[0m 6ms/step - accuracy: 0.7481 - auc: 0.8143 - loss: 0.5137 - precision: 0.7053 - recall: 0.6350 - val_accuracy: 0.7460 - val_auc: 0.8143 - val_loss: 0.5134 - val_precision: 0.6968 - val_recall: 0.6454\n",
      "Epoch 30/50\n",
      "\u001b[1m2835/2835\u001b[0m \u001b[32m━━━━━━━━━━━━━━━━━━━━\u001b[0m\u001b[37m\u001b[0m \u001b[1m16s\u001b[0m 6ms/step - accuracy: 0.7481 - auc: 0.8146 - loss: 0.5133 - precision: 0.7043 - recall: 0.6356 - val_accuracy: 0.7460 - val_auc: 0.8140 - val_loss: 0.5138 - val_precision: 0.6955 - val_recall: 0.6487\n",
      "Epoch 31/50\n",
      "\u001b[1m2835/2835\u001b[0m \u001b[32m━━━━━━━━━━━━━━━━━━━━\u001b[0m\u001b[37m\u001b[0m \u001b[1m16s\u001b[0m 6ms/step - accuracy: 0.7473 - auc: 0.8141 - loss: 0.5141 - precision: 0.7038 - recall: 0.6371 - val_accuracy: 0.7455 - val_auc: 0.8142 - val_loss: 0.5137 - val_precision: 0.6930 - val_recall: 0.6525\n",
      "Epoch 32/50\n",
      "\u001b[1m2835/2835\u001b[0m \u001b[32m━━━━━━━━━━━━━━━━━━━━\u001b[0m\u001b[37m\u001b[0m \u001b[1m16s\u001b[0m 6ms/step - accuracy: 0.7483 - auc: 0.8149 - loss: 0.5133 - precision: 0.7066 - recall: 0.6353 - val_accuracy: 0.7457 - val_auc: 0.8142 - val_loss: 0.5135 - val_precision: 0.6962 - val_recall: 0.6457\n",
      "Epoch 33/50\n",
      "\u001b[1m2835/2835\u001b[0m \u001b[32m━━━━━━━━━━━━━━━━━━━━\u001b[0m\u001b[37m\u001b[0m \u001b[1m16s\u001b[0m 6ms/step - accuracy: 0.7472 - auc: 0.8139 - loss: 0.5142 - precision: 0.7037 - recall: 0.6345 - val_accuracy: 0.7455 - val_auc: 0.8141 - val_loss: 0.5136 - val_precision: 0.7034 - val_recall: 0.6284\n",
      "Epoch 34/50\n",
      "\u001b[1m2835/2835\u001b[0m \u001b[32m━━━━━━━━━━━━━━━━━━━━\u001b[0m\u001b[37m\u001b[0m \u001b[1m16s\u001b[0m 6ms/step - accuracy: 0.7488 - auc: 0.8151 - loss: 0.5127 - precision: 0.7059 - recall: 0.6362 - val_accuracy: 0.7458 - val_auc: 0.8142 - val_loss: 0.5135 - val_precision: 0.6969 - val_recall: 0.6444\n",
      "Epoch 35/50\n",
      "\u001b[1m2835/2835\u001b[0m \u001b[32m━━━━━━━━━━━━━━━━━━━━\u001b[0m\u001b[37m\u001b[0m \u001b[1m16s\u001b[0m 6ms/step - accuracy: 0.7471 - auc: 0.8139 - loss: 0.5142 - precision: 0.7041 - recall: 0.6341 - val_accuracy: 0.7455 - val_auc: 0.8139 - val_loss: 0.5137 - val_precision: 0.7039 - val_recall: 0.6272\n",
      "Epoch 36/50\n",
      "\u001b[1m2835/2835\u001b[0m \u001b[32m━━━━━━━━━━━━━━━━━━━━\u001b[0m\u001b[37m\u001b[0m \u001b[1m16s\u001b[0m 6ms/step - accuracy: 0.7485 - auc: 0.8153 - loss: 0.5127 - precision: 0.7070 - recall: 0.6343 - val_accuracy: 0.7454 - val_auc: 0.8141 - val_loss: 0.5135 - val_precision: 0.6993 - val_recall: 0.6369\n",
      "Epoch 37/50\n",
      "\u001b[1m2835/2835\u001b[0m \u001b[32m━━━━━━━━━━━━━━━━━━━━\u001b[0m\u001b[37m\u001b[0m \u001b[1m16s\u001b[0m 6ms/step - accuracy: 0.7476 - auc: 0.8143 - loss: 0.5136 - precision: 0.7037 - recall: 0.6358 - val_accuracy: 0.7460 - val_auc: 0.8141 - val_loss: 0.5136 - val_precision: 0.7056 - val_recall: 0.6256\n",
      "Epoch 37: early stopping\n",
      "Restoring model weights from the end of the best epoch: 27.\n"
     ]
    }
   ],
   "source": [
    "result = model.fit(\n",
    "    x_train_scaled, y_train_full,\n",
    "    validation_data=(x_val_scaled, y_val),\n",
    "    epochs=50,\n",
    "    batch_size=512,\n",
    "    callbacks=[early_stop],\n",
    "    verbose=1\n",
    ")\n"
   ]
  },
  {
   "cell_type": "code",
   "execution_count": null,
   "id": "d63183a6",
   "metadata": {},
   "outputs": [],
   "source": [
    "#Saving the model\n",
    "model.save('instacart_model1.keras')"
   ]
  },
  {
   "cell_type": "code",
   "execution_count": null,
   "id": "d6c01be8",
   "metadata": {},
   "outputs": [],
   "source": [
    "#Loading the model\n",
    "from tensorflow import keras\n",
    "\n",
    "model = keras.models.load_model('instacart_model1.keras')"
   ]
  },
  {
   "cell_type": "code",
   "execution_count": null,
   "id": "73f20958",
   "metadata": {},
   "outputs": [
    {
     "name": "stdout",
     "output_type": "stream",
     "text": [
      "\u001b[1m6415/6415\u001b[0m \u001b[32m━━━━━━━━━━━━━━━━━━━━\u001b[0m\u001b[37m\u001b[0m \u001b[1m5s\u001b[0m 690us/step\n",
      "\u001b[1m13023/13023\u001b[0m \u001b[32m━━━━━━━━━━━━━━━━━━━━\u001b[0m\u001b[37m\u001b[0m \u001b[1m8s\u001b[0m 649us/step\n",
      "VALIDATION METRICS\n",
      "Validation Classification Report:\n",
      "              precision    recall  f1-score   support\n",
      "\n",
      "           0       0.77      0.82      0.79    123203\n",
      "           1       0.70      0.64      0.67     82054\n",
      "\n",
      "    accuracy                           0.75    205257\n",
      "   macro avg       0.74      0.73      0.73    205257\n",
      "weighted avg       0.74      0.75      0.74    205257\n",
      "\n",
      "Validation AUC: 0.8142649659924064\n",
      "Validation Confusion Matrix:\n",
      "[[100567  22636]\n",
      " [ 29507  52547]]\n",
      "TEST METRICS\n",
      "Test Classification Report:\n",
      "              precision    recall  f1-score   support\n",
      "\n",
      "           0       0.77      0.82      0.80    250141\n",
      "           1       0.70      0.64      0.67    166594\n",
      "\n",
      "    accuracy                           0.75    416735\n",
      "   macro avg       0.74      0.73      0.73    416735\n",
      "weighted avg       0.75      0.75      0.75    416735\n",
      "\n",
      "Test AUC: 0.8157853607947017\n",
      "Test Confusion Matrix:\n",
      "[[204921  45220]\n",
      " [ 59599 106995]]\n"
     ]
    }
   ],
   "source": [
    "#Model Evaluation on Validation and Test Sets\n",
    "from sklearn.metrics import classification_report, roc_auc_score, confusion_matrix\n",
    "\n",
    "\n",
    "y_val_pred_proba = model.predict(x_val_scaled)\n",
    "y_val_pred = (y_val_pred_proba > 0.5).astype(int)\n",
    "\n",
    "y_test_pred_proba = model.predict(x_test_scaled)\n",
    "y_test_pred = (y_test_pred_proba > 0.5).astype(int)\n",
    "\n",
    "print(\"VALIDATION METRICS\")\n",
    "print(\"Validation Classification Report:\")\n",
    "print(classification_report(y_val, y_val_pred))\n",
    "print(\"Validation AUC:\", roc_auc_score(y_val, y_val_pred_proba))\n",
    "print(\"Validation Confusion Matrix:\")\n",
    "print(confusion_matrix(y_val, y_val_pred))\n",
    "\n",
    "print(\"TEST METRICS\")\n",
    "print(\"Test Classification Report:\")\n",
    "print(classification_report(y_test, y_test_pred))\n",
    "print(\"Test AUC:\", roc_auc_score(y_test, y_test_pred_proba))\n",
    "print(\"Test Confusion Matrix:\")\n",
    "print(confusion_matrix(y_test, y_test_pred))\n"
   ]
  },
  {
   "cell_type": "code",
   "execution_count": 15,
   "id": "35ca6109",
   "metadata": {},
   "outputs": [],
   "source": [
    "x_test_decoded = x_test.copy()\n",
    "for col in x_test_decoded.columns:\n",
    "    if col in encoders:  \n",
    "        x_test_decoded[col] = encoders[col].inverse_transform(x_test[col].astype(int))\n",
    "\n"
   ]
  },
  {
   "cell_type": "code",
   "execution_count": 17,
   "id": "44e6c441",
   "metadata": {},
   "outputs": [],
   "source": [
    "test_results = x_test_decoded.copy()\n",
    "test_results['user_id'] = x_test_id['user_id']\n",
    "test_results['product_id'] = x_test_id['product_id']\n",
    "\n",
    "test_results['actual_reordered'] = y_test\n",
    "test_results['predicted_reordered'] = y_test_pred.flatten()\n",
    "test_results['reorder_probability'] = y_test_pred_proba.flatten()\n"
   ]
  },
  {
   "cell_type": "code",
   "execution_count": null,
   "id": "4e8f671f",
   "metadata": {},
   "outputs": [
    {
     "name": "stdout",
     "output_type": "stream",
     "text": [
      "\n",
      "1. PERSONALIZED PRODUCT RECOMMENDATION\n",
      "----------------------------------------\n",
      "Top 10 products recommended for reorder:\n",
      "                                                    avg_reorder_prob  \\\n",
      "product_name                                                           \n",
      "Lemon Tulsi Tea                                                0.914   \n",
      "0 Calorie Strawberry Dragonfruit Water Beverage                0.913   \n",
      "Jordan Almonds                                                 0.912   \n",
      "Spreadable Butter With Canola Oil                              0.912   \n",
      "Pink Beans                                                     0.910   \n",
      "Chocolate Chip Muffins                                         0.910   \n",
      "Yogurt, Coconut Non-Dairy, Low Fat, Vanilla                    0.909   \n",
      "Energy Drink, Natural                                          0.909   \n",
      "Carmelized Onion Hummus                                        0.909   \n",
      "Peter Rabbit Organic Pea Spinach & Apple Puree ...             0.909   \n",
      "\n",
      "                                                    frequency  \\\n",
      "product_name                                                    \n",
      "Lemon Tulsi Tea                                             1   \n",
      "0 Calorie Strawberry Dragonfruit Water Beverage             1   \n",
      "Jordan Almonds                                              1   \n",
      "Spreadable Butter With Canola Oil                           1   \n",
      "Pink Beans                                                  1   \n",
      "Chocolate Chip Muffins                                      1   \n",
      "Yogurt, Coconut Non-Dairy, Low Fat, Vanilla                 1   \n",
      "Energy Drink, Natural                                       1   \n",
      "Carmelized Onion Hummus                                     1   \n",
      "Peter Rabbit Organic Pea Spinach & Apple Puree ...          1   \n",
      "\n",
      "                                                    actual_reorder_rate  \n",
      "product_name                                                             \n",
      "Lemon Tulsi Tea                                                     1.0  \n",
      "0 Calorie Strawberry Dragonfruit Water Beverage                     1.0  \n",
      "Jordan Almonds                                                      1.0  \n",
      "Spreadable Butter With Canola Oil                                   1.0  \n",
      "Pink Beans                                                          1.0  \n",
      "Chocolate Chip Muffins                                              0.0  \n",
      "Yogurt, Coconut Non-Dairy, Low Fat, Vanilla                         1.0  \n",
      "Energy Drink, Natural                                               1.0  \n",
      "Carmelized Onion Hummus                                             1.0  \n",
      "Peter Rabbit Organic Pea Spinach & Apple Puree ...                  1.0  \n",
      "\n",
      "Recommendation Accuracy (prob > 0.7): 0.809\n"
     ]
    }
   ],
   "source": [
    "#Business Use Case Analysis\n",
    "print(\"\\n1. PERSONALIZED PRODUCT RECOMMENDATION\")\n",
    "print(\"-\" * 40)\n",
    "\n",
    "high_reorder_products = test_results[test_results['reorder_probability'] > 0.7]\n",
    "product_recommendations = high_reorder_products.groupby('product_name').agg({\n",
    "    'reorder_probability': ['mean', 'count'],\n",
    "    'actual_reordered': 'mean'\n",
    "}).round(3)\n",
    "\n",
    "product_recommendations.columns = ['avg_reorder_prob', 'frequency', 'actual_reorder_rate']\n",
    "product_recommendations = product_recommendations.sort_values('avg_reorder_prob', ascending=False)\n",
    "\n",
    "print(\"Top 10 products recommended for reorder:\")\n",
    "print(product_recommendations.head(10))\n",
    "\n",
    "recommendation_accuracy = (high_reorder_products['actual_reordered'] == 1).mean()\n",
    "print(f\"\\nRecommendation Accuracy (prob > 0.7): {recommendation_accuracy:.3f}\")\n"
   ]
  },
  {
   "cell_type": "code",
   "execution_count": 23,
   "id": "ce1fced1",
   "metadata": {},
   "outputs": [
    {
     "name": "stdout",
     "output_type": "stream",
     "text": [
      "\n",
      "2. INVENTORY MANAGEMENT\n",
      "------------------------------\n",
      "Demand forecast by department/aisle (top 10):\n",
      "                                          predicted_demand  actual_demand  \\\n",
      "department aisle                                                            \n",
      "produce    fresh fruits                       22259.039062          22337   \n",
      "           fresh vegetables                   18395.609375          18300   \n",
      "           packaged vegetables fruits         10242.509766          10503   \n",
      "dairy eggs yogurt                              7738.069824           7588   \n",
      "beverages  water seltzer sparkling water       5416.569824           5480   \n",
      "dairy eggs milk                                5177.620117           5162   \n",
      "           packaged cheese                     4916.979980           4935   \n",
      "snacks     chips pretzels                      3704.379883           3789   \n",
      "dairy eggs soy lactosefree                     3564.129883           3522   \n",
      "bakery     bread                               3236.129883           3280   \n",
      "\n",
      "                                          total_products  demand_accuracy  \n",
      "department aisle                                                           \n",
      "produce    fresh fruits                            40408            0.997  \n",
      "           fresh vegetables                        44420            0.995  \n",
      "           packaged vegetables fruits              22063            0.975  \n",
      "dairy eggs yogurt                                  15971            0.980  \n",
      "beverages  water seltzer sparkling water            9574            0.988  \n",
      "dairy eggs milk                                     8573            0.997  \n",
      "           packaged cheese                         12547            0.996  \n",
      "snacks     chips pretzels                           9300            0.978  \n",
      "dairy eggs soy lactosefree                          7101            0.988  \n",
      "bakery     bread                                    6870            0.987  \n",
      "\n",
      "Overall Demand Forecasting Accuracy: 0.944\n"
     ]
    }
   ],
   "source": [
    "\n",
    "print(\"\\n2. INVENTORY MANAGEMENT\")\n",
    "print(\"-\" * 30)\n",
    "\n",
    "\n",
    "demand_forecast = test_results.groupby(['department', 'aisle']).agg({\n",
    "    'reorder_probability': 'sum',\n",
    "    'actual_reordered': 'sum',\n",
    "    'product_name': 'count'\n",
    "}).round(2)\n",
    "\n",
    "demand_forecast.columns = ['predicted_demand', 'actual_demand', 'total_products']\n",
    "demand_forecast['demand_accuracy'] = (\n",
    "    1 - abs(demand_forecast['predicted_demand'] - demand_forecast['actual_demand']) / \n",
    "    demand_forecast['actual_demand'].clip(lower=1)\n",
    ").round(3)\n",
    "\n",
    "print(\"Demand forecast by department/aisle (top 10):\")\n",
    "print(demand_forecast.sort_values('predicted_demand', ascending=False).head(10))\n",
    "\n",
    "overall_demand_accuracy = demand_forecast['demand_accuracy'].mean()\n",
    "print(f\"\\nOverall Demand Forecasting Accuracy: {overall_demand_accuracy:.3f}\")\n"
   ]
  },
  {
   "cell_type": "code",
   "execution_count": 24,
   "id": "983d6362",
   "metadata": {},
   "outputs": [
    {
     "name": "stdout",
     "output_type": "stream",
     "text": [
      "\n",
      "3. CUSTOMER RETENTION\n",
      "-------------------------\n",
      "Customers at high churn risk: 47217\n",
      "Total customers: 148623\n",
      "Churn risk rate: 0.318\n",
      "Churn prediction accuracy: 0.684\n"
     ]
    }
   ],
   "source": [
    "print(\"\\n3. CUSTOMER RETENTION\")\n",
    "print(\"-\" * 25)\n",
    "\n",
    "if 'user_id' in test_results.columns:\n",
    "    customer_analysis = test_results.groupby('user_id').agg({\n",
    "        'reorder_probability': 'mean',\n",
    "        'actual_reordered': 'mean',\n",
    "        'product_name': 'count'\n",
    "    }).round(3)\n",
    "    \n",
    "    customer_analysis.columns = ['avg_reorder_prob', 'actual_reorder_rate', 'products_purchased']\n",
    "    \n",
    "    high_churn_risk = customer_analysis[customer_analysis['avg_reorder_prob'] < 0.3]\n",
    "    \n",
    "    print(f\"Customers at high churn risk: {len(high_churn_risk)}\")\n",
    "    print(f\"Total customers: {len(customer_analysis)}\")\n",
    "    print(f\"Churn risk rate: {len(high_churn_risk)/len(customer_analysis):.3f}\")\n",
    "    \n",
    "    churn_prediction_accuracy = (\n",
    "        (customer_analysis['avg_reorder_prob'] < 0.3) == \n",
    "        (customer_analysis['actual_reorder_rate'] < 0.3)\n",
    "    ).mean()\n",
    "    print(f\"Churn prediction accuracy: {churn_prediction_accuracy:.3f}\")\n",
    "else:\n",
    "    print(\"Note: user_id not found in data. Cannot perform customer-level churn analysis.\")\n"
   ]
  },
  {
   "cell_type": "code",
   "execution_count": 27,
   "id": "9046b499",
   "metadata": {},
   "outputs": [
    {
     "name": "stdout",
     "output_type": "stream",
     "text": [
      "\n",
      "4. MARKETING OPTIMIZATION\n",
      "------------------------------\n",
      "Marketing segments analysis:\n",
      "                            avg_predicted_prob  actual_conversion_rate  \\\n",
      "marketing_segment                                                        \n",
      "High Intent (Upsell)                     0.852                   0.857   \n",
      "Low Intent (Re-engage)                   0.345                   0.337   \n",
      "Medium Intent (Nurture)                  0.645                   0.647   \n",
      "Very Low Intent (Win-back)               0.101                   0.105   \n",
      "\n",
      "                            segment_size  \n",
      "marketing_segment                         \n",
      "High Intent (Upsell)               40424  \n",
      "Low Intent (Re-engage)            137388  \n",
      "Medium Intent (Nurture)           111791  \n",
      "Very Low Intent (Win-back)        127132  \n",
      "High Intent (Upsell): Precision = 0.857\n",
      "Low Intent (Re-engage): Precision = 0.337\n",
      "Medium Intent (Nurture): Precision = 0.647\n",
      "Very Low Intent (Win-back): Precision = 0.105\n"
     ]
    }
   ],
   "source": [
    "print(\"\\n4. MARKETING OPTIMIZATION\")\n",
    "print(\"-\" * 30)\n",
    "\n",
    "import matplotlib.pyplot as plt\n",
    "def get_marketing_segment(prob):\n",
    "    if prob >= 0.8:\n",
    "        return 'High Intent (Upsell)'\n",
    "    elif prob >= 0.5:\n",
    "        return 'Medium Intent (Nurture)'\n",
    "    elif prob >= 0.2:\n",
    "        return 'Low Intent (Re-engage)'\n",
    "    else:\n",
    "        return 'Very Low Intent (Win-back)'\n",
    "\n",
    "test_results['marketing_segment'] = test_results['reorder_probability'].apply(get_marketing_segment)\n",
    "\n",
    "marketing_segments = test_results.groupby('marketing_segment').agg({\n",
    "    'reorder_probability': 'mean',\n",
    "    'actual_reordered': 'mean',\n",
    "    'product_name': 'count'\n",
    "}).round(3)\n",
    "\n",
    "marketing_segments.columns = ['avg_predicted_prob', 'actual_conversion_rate', 'segment_size']\n",
    "\n",
    "print(\"Marketing segments analysis:\")\n",
    "print(marketing_segments)\n",
    "\n",
    "for segment in marketing_segments.index:\n",
    "    segment_data = test_results[test_results['marketing_segment'] == segment]\n",
    "    precision = (segment_data['actual_reordered'] == 1).mean()\n",
    "    print(f\"{segment}: Precision = {precision:.3f}\")\n",
    "\n"
   ]
  },
  {
   "cell_type": "code",
   "execution_count": 18,
   "id": "b600a265",
   "metadata": {},
   "outputs": [
    {
     "data": {
      "text/plain": [
       "['scaler1.pkl']"
      ]
     },
     "execution_count": 18,
     "metadata": {},
     "output_type": "execute_result"
    }
   ],
   "source": [
    "import joblib\n",
    "joblib.dump(scaler, 'scaler1.pkl')\n"
   ]
  }
 ],
 "metadata": {
  "kernelspec": {
   "display_name": "env",
   "language": "python",
   "name": "python3"
  },
  "language_info": {
   "codemirror_mode": {
    "name": "ipython",
    "version": 3
   },
   "file_extension": ".py",
   "mimetype": "text/x-python",
   "name": "python",
   "nbconvert_exporter": "python",
   "pygments_lexer": "ipython3",
   "version": "3.11.0"
  }
 },
 "nbformat": 4,
 "nbformat_minor": 5
}
